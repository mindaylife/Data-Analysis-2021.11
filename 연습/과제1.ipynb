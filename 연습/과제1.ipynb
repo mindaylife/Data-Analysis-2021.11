{
 "cells": [
  {
   "cell_type": "code",
   "execution_count": 1,
   "metadata": {},
   "outputs": [],
   "source": [
    "import numpy as np"
   ]
  },
  {
   "cell_type": "markdown",
   "metadata": {},
   "source": [
    "# 1. 넘파이를 사용하여 다음과 같은 행렬을 만드시오.\n",
    "\n",
    "    10 20 30 40\n",
    "    50 60 70 80"
   ]
  },
  {
   "cell_type": "code",
   "execution_count": 3,
   "metadata": {},
   "outputs": [
    {
     "data": {
      "text/plain": [
       "array([[10, 20, 30, 40],\n",
       "       [50, 60, 70, 80]])"
      ]
     },
     "execution_count": 3,
     "metadata": {},
     "output_type": "execute_result"
    }
   ],
   "source": [
    "np.arange(10,90,10).reshape(2,4)\n"
   ]
  },
  {
   "cell_type": "markdown",
   "metadata": {},
   "source": [
    "# 2. 다음 행렬과 같은 행렬이 있다.\n",
    "\n",
    "    m = np.array([[ 0, 1, 2, 3, 4],\n",
    "    [ 5, 6, 7, 8, 9],\n",
    "    [10, 11, 12, 13, 14]])\n",
    "    1) 이 행렬에서 값 7 을 인덱싱한다.\n",
    "    2) 이 행렬에서 값 14 을 인덱싱한다.\n",
    "    3) 이 행렬에서 배열 [6, 7] 을 슬라이싱한다.\n",
    "    4) 이 행렬에서 배열 [7, 12] 을 슬라이싱한다.\n",
    "    5) 이 행렬에서 배열 [[3, 4], [8, 9]] 을 슬라이싱한다."
   ]
  },
  {
   "cell_type": "code",
   "execution_count": 21,
   "metadata": {},
   "outputs": [
    {
     "data": {
      "text/plain": [
       "array([[ 0,  1,  2,  3,  4],\n",
       "       [ 5,  6,  7,  8,  9],\n",
       "       [10, 11, 12, 13, 14]])"
      ]
     },
     "execution_count": 21,
     "metadata": {},
     "output_type": "execute_result"
    }
   ],
   "source": [
    "m = np.array([[ 0, 1, 2, 3, 4],\n",
    "[ 5, 6, 7, 8, 9],\n",
    "[10, 11, 12, 13, 14]])\n",
    "m"
   ]
  },
  {
   "cell_type": "code",
   "execution_count": 55,
   "metadata": {},
   "outputs": [
    {
     "data": {
      "text/plain": [
       "7"
      ]
     },
     "execution_count": 55,
     "metadata": {},
     "output_type": "execute_result"
    }
   ],
   "source": [
    "#1) 이 행렬에서 값 7 을 인덱싱한다.\n",
    "\n",
    "m[1,2] "
   ]
  },
  {
   "cell_type": "code",
   "execution_count": 54,
   "metadata": {},
   "outputs": [
    {
     "data": {
      "text/plain": [
       "14"
      ]
     },
     "execution_count": 54,
     "metadata": {},
     "output_type": "execute_result"
    }
   ],
   "source": [
    "#2) 이 행렬에서 값 14 을 인덱싱한다.\n",
    "\n",
    "m[-1,-1]"
   ]
  },
  {
   "cell_type": "code",
   "execution_count": 53,
   "metadata": {},
   "outputs": [
    {
     "data": {
      "text/plain": [
       "array([6, 7])"
      ]
     },
     "execution_count": 53,
     "metadata": {},
     "output_type": "execute_result"
    }
   ],
   "source": [
    "#3) 이 행렬에서 배열 [6, 7] 을 슬라이싱한다.\n",
    "\n",
    "m[1,1:3]"
   ]
  },
  {
   "cell_type": "code",
   "execution_count": 52,
   "metadata": {},
   "outputs": [
    {
     "data": {
      "text/plain": [
       "array([ 7, 12])"
      ]
     },
     "execution_count": 52,
     "metadata": {},
     "output_type": "execute_result"
    }
   ],
   "source": [
    "#4) 이 행렬에서 배열 [7, 12] 을 슬라이싱한다.\n",
    "\n",
    "m[1:,2]"
   ]
  },
  {
   "cell_type": "code",
   "execution_count": 51,
   "metadata": {},
   "outputs": [
    {
     "data": {
      "text/plain": [
       "array([[3, 4],\n",
       "       [8, 9]])"
      ]
     },
     "execution_count": 51,
     "metadata": {},
     "output_type": "execute_result"
    }
   ],
   "source": [
    "#5) 이 행렬에서 배열 [[3, 4], [8, 9]] 을 슬라이싱한다.\n",
    "\n",
    "m[:2,3:]"
   ]
  },
  {
   "cell_type": "markdown",
   "metadata": {},
   "source": [
    "# 3. 2번의 행렬 m을 1차원 벡터 f 로 변환한 후 다음의 문제를 푸시오.\n",
    "    1) 이 배열에서 3의 배수를 찾아라.\n",
    "    2) 이 배열에서 4로 나누면 1이 남는 수를 찾아라.\n",
    "    3) 이 배열에서 3으로 나누면 나누어지고 4로 나누면 1이 남는 수를 찾아라."
   ]
  },
  {
   "cell_type": "code",
   "execution_count": 62,
   "metadata": {},
   "outputs": [
    {
     "data": {
      "text/plain": [
       "array([ 0,  1,  2,  3,  4,  5,  6,  7,  8,  9, 10, 11, 12, 13, 14])"
      ]
     },
     "execution_count": 62,
     "metadata": {},
     "output_type": "execute_result"
    }
   ],
   "source": [
    "vector = m.reshape(-1)\n",
    "vector"
   ]
  },
  {
   "cell_type": "code",
   "execution_count": 50,
   "metadata": {},
   "outputs": [
    {
     "data": {
      "text/plain": [
       "array([ 0,  3,  6,  9, 12])"
      ]
     },
     "execution_count": 50,
     "metadata": {},
     "output_type": "execute_result"
    }
   ],
   "source": [
    "#1) 이 배열에서 3의 배수를 찾아라.\n",
    "\n",
    "vector[vector % 3 == 0]"
   ]
  },
  {
   "cell_type": "code",
   "execution_count": 45,
   "metadata": {},
   "outputs": [
    {
     "data": {
      "text/plain": [
       "array([ 1,  5,  9, 13])"
      ]
     },
     "execution_count": 45,
     "metadata": {},
     "output_type": "execute_result"
    }
   ],
   "source": [
    "#2) 이 배열에서 4로 나누면 1이 남는 수를 찾아라.\n",
    "\n",
    "vector[vector % 4 == 1]"
   ]
  },
  {
   "cell_type": "code",
   "execution_count": 69,
   "metadata": {},
   "outputs": [
    {
     "data": {
      "text/plain": [
       "array([9])"
      ]
     },
     "execution_count": 69,
     "metadata": {},
     "output_type": "execute_result"
    }
   ],
   "source": [
    "vector2 = (vector % 3 == 0) & (vector % 4 == 1)\n",
    "vector[vector2]"
   ]
  },
  {
   "cell_type": "markdown",
   "metadata": {},
   "source": [
    "# 4. 값을 직접 입력하지 말고 우측의 행렬을 만드시오.\n",
    "    2, 1, 0, 0, 0\n",
    "    3, 2, 1, 0, 0\n",
    "    0, 3, 2, 1, 0\n",
    "    0, 0, 3, 2, 1\n",
    "    0, 0, 0, 3, 2"
   ]
  },
  {
   "cell_type": "code",
   "execution_count": 174,
   "metadata": {},
   "outputs": [
    {
     "data": {
      "text/plain": [
       "array([[2., 1., 0., 0., 0.],\n",
       "       [3., 2., 1., 0., 0.],\n",
       "       [0., 3., 2., 1., 0.],\n",
       "       [0., 0., 3., 2., 1.],\n",
       "       [0., 0., 0., 3., 2.]])"
      ]
     },
     "execution_count": 174,
     "metadata": {},
     "output_type": "execute_result"
    }
   ],
   "source": [
    "table1 = np.eye(M=5,N=5,k=1)\n",
    "table2 = np.eye(M=5,N=5)\n",
    "table3 = np.eye(M=5,N=5,k=-1)\n",
    "table1 + table2 *2 + table3*3\n"
   ]
  },
  {
   "cell_type": "code",
   "execution_count": 176,
   "metadata": {},
   "outputs": [
    {
     "data": {
      "text/plain": [
       "array([[2., 1., 0., 0., 0.],\n",
       "       [3., 2., 1., 0., 0.],\n",
       "       [0., 3., 2., 1., 0.],\n",
       "       [0., 0., 3., 2., 1.],\n",
       "       [0., 0., 0., 3., 2.]])"
      ]
     },
     "execution_count": 176,
     "metadata": {},
     "output_type": "execute_result"
    }
   ],
   "source": [
    "#줄이기\n",
    "table = np.eye(M=5,N=5,k=1)+np.eye(M=5,N=5)*2+np.eye(M=5,N=5,k=-1)*3\n",
    "table"
   ]
  },
  {
   "cell_type": "markdown",
   "metadata": {},
   "source": [
    "# 5. 0에서 10까지 랜덤 실수값으로 이루어진 5 x 6 형태의 데이터 행렬을 만들고 이 데이터에 대해 다음과 같은 값을 구하시오.\n",
    "    1) 전체의 최댓값\n",
    "    2) 각 행의 합\n",
    "    3) 각 행의 최댓값\n",
    "    4) 각 열의 평균\n",
    "    5) 각 열의 최솟값"
   ]
  },
  {
   "cell_type": "code",
   "execution_count": 80,
   "metadata": {},
   "outputs": [],
   "source": [
    "import random "
   ]
  },
  {
   "cell_type": "code",
   "execution_count": 93,
   "metadata": {},
   "outputs": [
    {
     "data": {
      "text/plain": [
       "array([[7.89465427, 6.00761577, 5.51793246, 5.18158595, 3.15020849,\n",
       "        4.08105978],\n",
       "       [8.51980053, 8.82422805, 9.27388834, 3.39622523, 5.7073644 ,\n",
       "        4.6997667 ],\n",
       "       [1.85215402, 8.20001791, 6.25267101, 9.79244374, 4.21648593,\n",
       "        1.3791701 ],\n",
       "       [2.95135453, 2.67879513, 7.28140621, 8.54718583, 8.84937093,\n",
       "        3.04592514],\n",
       "       [9.28511043, 3.05271857, 9.21421152, 2.19944974, 8.47074318,\n",
       "        3.74581016]])"
      ]
     },
     "execution_count": 93,
     "metadata": {},
     "output_type": "execute_result"
    }
   ],
   "source": [
    "rand = np.random.uniform(1, 10, 30).reshape(5,6)\n",
    "rand"
   ]
  },
  {
   "cell_type": "code",
   "execution_count": 94,
   "metadata": {},
   "outputs": [
    {
     "data": {
      "text/plain": [
       "9.792443743176667"
      ]
     },
     "execution_count": 94,
     "metadata": {},
     "output_type": "execute_result"
    }
   ],
   "source": [
    "#1) 전체의 최댓값\n",
    "rand.max()"
   ]
  },
  {
   "cell_type": "code",
   "execution_count": 95,
   "metadata": {},
   "outputs": [
    {
     "data": {
      "text/plain": [
       "array([30.50307378, 28.76337544, 37.54010955, 29.11689049, 30.39417293,\n",
       "       16.95173188])"
      ]
     },
     "execution_count": 95,
     "metadata": {},
     "output_type": "execute_result"
    }
   ],
   "source": [
    "#2) 각 행의 합\n",
    "rand.sum(axis=0)"
   ]
  },
  {
   "cell_type": "code",
   "execution_count": 96,
   "metadata": {},
   "outputs": [
    {
     "data": {
      "text/plain": [
       "array([9.28511043, 8.82422805, 9.27388834, 9.79244374, 8.84937093,\n",
       "       4.6997667 ])"
      ]
     },
     "execution_count": 96,
     "metadata": {},
     "output_type": "execute_result"
    }
   ],
   "source": [
    "#3) 각 행의 최댓값\n",
    "rand.max(axis=0)"
   ]
  },
  {
   "cell_type": "code",
   "execution_count": 99,
   "metadata": {},
   "outputs": [
    {
     "data": {
      "text/plain": [
       "array([5.30550945, 6.73687887, 5.28215712, 5.5590063 , 5.99467393])"
      ]
     },
     "execution_count": 99,
     "metadata": {},
     "output_type": "execute_result"
    }
   ],
   "source": [
    "#4) 각 열의 평균\n",
    "rand.mean(axis=1)"
   ]
  },
  {
   "cell_type": "code",
   "execution_count": 98,
   "metadata": {},
   "outputs": [
    {
     "data": {
      "text/plain": [
       "array([3.15020849, 3.39622523, 1.3791701 , 2.67879513, 2.19944974])"
      ]
     },
     "execution_count": 98,
     "metadata": {},
     "output_type": "execute_result"
    }
   ],
   "source": [
    "#5) 각 열의 최솟값\n",
    "rand.min(axis=1)"
   ]
  },
  {
   "cell_type": "markdown",
   "metadata": {},
   "source": [
    "# 6. 다음 배열은 첫번째 행(row)에 학번, 두번째 행에 영어 성적, 세번째 행에 수학 성적을 적은 배열이다. 영어 성적을 기준으로 각 열(column)을 재정렬하시오.\n",
    "    학번:   array([[ 1, 2, 3, 4],\n",
    "    영어성적: [ 46, 99, 100, 71],\n",
    "    수학성적: [ 81, 59, 90, 100]])"
   ]
  },
  {
   "cell_type": "code",
   "execution_count": 111,
   "metadata": {},
   "outputs": [],
   "source": [
    "test = np.array([[ 1, 2, 3, 4],\n",
    "[ 46, 99, 100, 71],\n",
    "[ 81, 59, 90, 100]])"
   ]
  },
  {
   "cell_type": "code",
   "execution_count": 126,
   "metadata": {},
   "outputs": [
    {
     "data": {
      "text/plain": [
       "array([[  1,   4,   2,   3],\n",
       "       [ 46,  71,  99, 100],\n",
       "       [ 81, 100,  59,  90]])"
      ]
     },
     "execution_count": 126,
     "metadata": {},
     "output_type": "execute_result"
    }
   ],
   "source": [
    "test1 = test[:,test[1].argsort()]\n",
    "test1"
   ]
  },
  {
   "cell_type": "markdown",
   "metadata": {},
   "source": [
    "# 7. 주사위를 100번 던지는 가상 실험을 파이썬으로 작성하고, 던져서 나오는 숫자의 평균을 구하시오."
   ]
  },
  {
   "cell_type": "code",
   "execution_count": 134,
   "metadata": {},
   "outputs": [
    {
     "data": {
      "text/plain": [
       "3.0"
      ]
     },
     "execution_count": 134,
     "metadata": {},
     "output_type": "execute_result"
    }
   ],
   "source": [
    "dice100 = np.random.randint(1,6,100)\n",
    "dice100.mean()"
   ]
  },
  {
   "cell_type": "markdown",
   "metadata": {},
   "source": [
    "# 8. 가격이 10,000원인 주식이 있다. 이 주식의 일간 수익률(%)은 기댓값이 0%이고 표준편차가 1%인 표준 정규 분포를 따른다고 하자. 250일 동안의 주가를 무작위로 생성하시오."
   ]
  },
  {
   "cell_type": "code",
   "execution_count": 180,
   "metadata": {},
   "outputs": [
    {
     "data": {
      "text/plain": [
       "array([10001.84718321, 10000.71086524,  9998.98762391, 10000.12072824,\n",
       "        9999.00817893,  9999.89701517, 10001.18712681, 10001.07426682,\n",
       "       10001.52261217,  9999.34247532,  9999.47543152,  9999.04663967,\n",
       "       10000.27306115, 10001.37487373,  9999.82483793, 10001.13986062,\n",
       "       10000.27774761, 10001.38113246, 10000.88902959, 10000.48259827,\n",
       "       10000.93024374,  9999.84398899, 10002.07719017,  9999.47094691,\n",
       "       10000.96907006, 10000.11587058, 10000.56222628, 10000.61481484,\n",
       "        9998.37294907, 10000.36907706, 10000.43843942, 10000.00304311,\n",
       "        9999.01673679,  9999.01238107,  9998.83417822,  9999.40081171,\n",
       "        9999.63175964,  9998.84130405,  9999.11592312,  9999.87578404,\n",
       "       10000.52058035,  9999.34086505, 10000.01333008,  9999.71393967,\n",
       "        9999.79827432,  9997.99072801,  9999.0679133 , 10000.07132394,\n",
       "       10000.56586421, 10000.79167937,  9999.44642719,  9999.94710348,\n",
       "        9999.29150654,  9999.70599209,  9999.74268099, 10000.40188502,\n",
       "        9998.74989454,  9999.15641257,  9998.75694445,  9999.4051814 ,\n",
       "       10000.7634656 ,  9999.8765666 ,  9997.95239312, 10001.26041054,\n",
       "       10000.71663722,  9999.6431362 , 10001.03816526, 10000.45420017,\n",
       "       10000.1636678 ,  9999.98610999, 10000.7974991 ,  9998.54201904,\n",
       "        9999.22205695,  9999.67628084,  9999.84231732,  9998.24491963,\n",
       "       10000.28820639, 10000.59649308,  9999.7597795 ,  9998.59075746,\n",
       "        9997.62904051,  9999.9049911 ,  9999.15361893,  9999.45287231,\n",
       "       10001.63967831, 10000.66235118, 10001.50534891, 10000.56642327,\n",
       "       10001.55296912,  9999.76905283, 10001.50492836, 10001.51970386,\n",
       "       10001.29138711, 10000.66534488, 10002.8422561 , 10001.093073  ,\n",
       "        9999.60153439,  9999.38589816,  9998.54956108, 10000.10731599,\n",
       "        9997.73848986, 10002.054176  ,  9998.57310774, 10000.1048003 ,\n",
       "       10000.44874899, 10000.47377131, 10001.76731868, 10001.01773584,\n",
       "       10001.98859414, 10000.72251581,  9999.30968986,  9999.13845647,\n",
       "        9999.21658259, 10000.75540627,  9998.27648341, 10002.71328158,\n",
       "        9998.05130775, 10001.75642904, 10000.24944229,  9999.76216714,\n",
       "        9999.67646749,  9999.16292955, 10000.0767792 , 10000.63402352,\n",
       "       10000.33032258, 10000.30693902, 10000.5081097 , 10000.01689906,\n",
       "        9999.25549503,  9998.6339746 , 10002.21018125, 10001.01331694,\n",
       "        9998.70744346,  9998.96214616, 10000.09119736, 10000.2364343 ,\n",
       "       10001.2477028 , 10000.50169821,  9998.54858242,  9999.86951933,\n",
       "        9999.20073519,  9999.1031298 ,  9999.9530018 ,  9999.2098633 ,\n",
       "       10000.37125012,  9998.90266686, 10000.52460548,  9998.07079112,\n",
       "       10000.07463593,  9999.02477066,  9999.6512657 ,  9998.93458045,\n",
       "        9999.19584732, 10001.41998865,  9999.86693602,  9999.20235551,\n",
       "        9999.53450025, 10000.99281233,  9998.98074879, 10000.6043288 ,\n",
       "        9999.89648077, 10002.22445835,  9999.76233501, 10001.45570941,\n",
       "       10001.26938283, 10001.0756663 ,  9999.56169003,  9998.39285868,\n",
       "       10000.47026904, 10000.69028437,  9999.90806895, 10000.55992181,\n",
       "       10000.63904538, 10000.40519143, 10000.21390309, 10000.2096685 ,\n",
       "        9998.98668877, 10000.012152  , 10001.54586086, 10000.17642827,\n",
       "       10000.07420981,  9999.80717241,  9999.92571533,  9999.68666146,\n",
       "       10000.29600368, 10000.50606062,  9998.02599418, 10001.00789455,\n",
       "        9998.5067346 , 10000.91644308, 10000.77942686, 10000.72055971,\n",
       "        9999.44950397,  9999.47624456,  9999.99291638,  9999.6241599 ,\n",
       "       10000.92311638, 10001.19956466, 10000.67058538, 10000.50324308,\n",
       "       10001.6845329 ,  9997.94182078,  9999.96007031,  9999.18887299,\n",
       "        9998.48055123,  9999.35112827, 10001.94194137, 10000.2818867 ,\n",
       "       10000.39305943,  9999.12382217, 10000.31576245,  9999.67922986,\n",
       "       10001.21682494, 10001.39219288,  9999.57611908, 10000.76119656,\n",
       "        9998.0623729 , 10000.51901386,  9997.84916236, 10001.06503538,\n",
       "        9999.72890883,  9997.44676106, 10000.10173447,  9999.55409728,\n",
       "        9999.3057946 , 10000.04954122,  9999.62015415, 10001.15984906,\n",
       "        9999.75333376,  9999.34648276,  9998.94360757, 10000.8131654 ,\n",
       "       10001.40579694,  9999.71420442, 10000.62448336, 10000.46147023,\n",
       "       10001.19070337, 10000.35393592,  9999.9786984 ,  9999.53668393,\n",
       "        9999.3027653 , 10000.31085962, 10000.82089649, 10000.26886163,\n",
       "        9999.34062225,  9998.9746095 ,  9999.69402153, 10001.04525595,\n",
       "       10000.69229633, 10000.08408226])"
      ]
     },
     "execution_count": 180,
     "metadata": {},
     "output_type": "execute_result"
    }
   ],
   "source": [
    "price = 10000\n",
    "stock = price + np.random.normal(0,1,250)\n",
    "stock"
   ]
  },
  {
   "cell_type": "code",
   "execution_count": null,
   "metadata": {},
   "outputs": [],
   "source": []
  }
 ],
 "metadata": {
  "interpreter": {
   "hash": "9459de32d5ca2a57cd93a1169c99c6090e3e7c98f7fac5dc8fa5b4017ec3f43e"
  },
  "kernelspec": {
   "display_name": "Python 3.8.8 64-bit ('base': conda)",
   "language": "python",
   "name": "python3"
  },
  "language_info": {
   "codemirror_mode": {
    "name": "ipython",
    "version": 3
   },
   "file_extension": ".py",
   "mimetype": "text/x-python",
   "name": "python",
   "nbconvert_exporter": "python",
   "pygments_lexer": "ipython3",
   "version": "3.8.8"
  },
  "orig_nbformat": 4
 },
 "nbformat": 4,
 "nbformat_minor": 2
}
