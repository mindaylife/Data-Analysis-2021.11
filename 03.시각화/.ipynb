{
 "cells": [
  {
   "cell_type": "code",
   "execution_count": 1,
   "metadata": {},
   "outputs": [
    {
     "data": {
      "text/plain": [
       "dict_keys(['data', 'target', 'frame', 'target_names', 'DESCR', 'feature_names', 'filename'])"
      ]
     },
     "execution_count": 1,
     "metadata": {},
     "output_type": "execute_result"
    }
   ],
   "source": [
    "from sklearn.datasets import load_iris\n",
    "data = load_iris()\n",
    "data.keys()"
   ]
  },
  {
   "cell_type": "code",
   "execution_count": 2,
   "metadata": {},
   "outputs": [
    {
     "name": "stdout",
     "output_type": "stream",
     "text": [
      "(150, 4) (150,)\n",
      "['setosa' 'versicolor' 'virginica'] ['sepal length (cm)', 'sepal width (cm)', 'petal length (cm)', 'petal width (cm)']\n"
     ]
    }
   ],
   "source": [
    "print(data.data.shape, data.target.shape)\n",
    "print(data.target_names, data.feature_names)"
   ]
  },
  {
   "cell_type": "code",
   "execution_count": 3,
   "metadata": {},
   "outputs": [
    {
     "name": "stdout",
     "output_type": "stream",
     "text": [
      ".. _iris_dataset:\n",
      "\n",
      "Iris plants dataset\n",
      "--------------------\n",
      "\n",
      "**Data Set Characteristics:**\n",
      "\n",
      "    :Number of Instances: 150 (50 in each of three classes)\n",
      "    :Number of Attributes: 4 numeric, predictive attributes and the class\n",
      "    :Attribute Information:\n",
      "        - sepal length in cm\n",
      "        - sepal width in cm\n",
      "        - petal length in cm\n",
      "        - petal width in cm\n",
      "        - class:\n",
      "                - Iris-Setosa\n",
      "                - Iris-Versicolour\n",
      "                - Iris-Virginica\n",
      "                \n",
      "    :Summary Statistics:\n",
      "\n",
      "    ============== ==== ==== ======= ===== ====================\n",
      "                    Min  Max   Mean    SD   Class Correlation\n",
      "    ============== ==== ==== ======= ===== ====================\n",
      "    sepal length:   4.3  7.9   5.84   0.83    0.7826\n",
      "    sepal width:    2.0  4.4   3.05   0.43   -0.4194\n",
      "    petal length:   1.0  6.9   3.76   1.76    0.9490  (high!)\n",
      "    petal width:    0.1  2.5   1.20   0.76    0.9565  (high!)\n",
      "    ============== ==== ==== ======= ===== ====================\n",
      "\n",
      "    :Missing Attribute Values: None\n",
      "    :Class Distribution: 33.3% for each of 3 classes.\n",
      "    :Creator: R.A. Fisher\n",
      "    :Donor: Michael Marshall (MARSHALL%PLU@io.arc.nasa.gov)\n",
      "    :Date: July, 1988\n",
      "\n",
      "The famous Iris database, first used by Sir R.A. Fisher. The dataset is taken\n",
      "from Fisher's paper. Note that it's the same as in R, but not as in the UCI\n",
      "Machine Learning Repository, which has two wrong data points.\n",
      "\n",
      "This is perhaps the best known database to be found in the\n",
      "pattern recognition literature.  Fisher's paper is a classic in the field and\n",
      "is referenced frequently to this day.  (See Duda & Hart, for example.)  The\n",
      "data set contains 3 classes of 50 instances each, where each class refers to a\n",
      "type of iris plant.  One class is linearly separable from the other 2; the\n",
      "latter are NOT linearly separable from each other.\n",
      "\n",
      ".. topic:: References\n",
      "\n",
      "   - Fisher, R.A. \"The use of multiple measurements in taxonomic problems\"\n",
      "     Annual Eugenics, 7, Part II, 179-188 (1936); also in \"Contributions to\n",
      "     Mathematical Statistics\" (John Wiley, NY, 1950).\n",
      "   - Duda, R.O., & Hart, P.E. (1973) Pattern Classification and Scene Analysis.\n",
      "     (Q327.D83) John Wiley & Sons.  ISBN 0-471-22361-1.  See page 218.\n",
      "   - Dasarathy, B.V. (1980) \"Nosing Around the Neighborhood: A New System\n",
      "     Structure and Classification Rule for Recognition in Partially Exposed\n",
      "     Environments\".  IEEE Transactions on Pattern Analysis and Machine\n",
      "     Intelligence, Vol. PAMI-2, No. 1, 67-71.\n",
      "   - Gates, G.W. (1972) \"The Reduced Nearest Neighbor Rule\".  IEEE Transactions\n",
      "     on Information Theory, May 1972, 431-433.\n",
      "   - See also: 1988 MLC Proceedings, 54-64.  Cheeseman et al\"s AUTOCLASS II\n",
      "     conceptual clustering system finds 3 classes in the data.\n",
      "   - Many, many more ...\n"
     ]
    }
   ],
   "source": [
    "print(data.DESCR)"
   ]
  },
  {
   "cell_type": "code",
   "execution_count": 4,
   "metadata": {},
   "outputs": [
    {
     "data": {
      "text/plain": [
       "array([0, 0, 0, 0, 0, 0, 0, 0, 0, 0, 0, 0, 0, 0, 0, 0, 0, 0, 0, 0, 0, 0,\n",
       "       0, 0, 0, 0, 0, 0, 0, 0, 0, 0, 0, 0, 0, 0, 0, 0, 0, 0, 0, 0, 0, 0,\n",
       "       0, 0, 0, 0, 0, 0, 1, 1, 1, 1, 1, 1, 1, 1, 1, 1, 1, 1, 1, 1, 1, 1,\n",
       "       1, 1, 1, 1, 1, 1, 1, 1, 1, 1, 1, 1, 1, 1, 1, 1, 1, 1, 1, 1, 1, 1,\n",
       "       1, 1, 1, 1, 1, 1, 1, 1, 1, 1, 1, 1, 2, 2, 2, 2, 2, 2, 2, 2, 2, 2,\n",
       "       2, 2, 2, 2, 2, 2, 2, 2, 2, 2, 2, 2, 2, 2, 2, 2, 2, 2, 2, 2, 2, 2,\n",
       "       2, 2, 2, 2, 2, 2, 2, 2, 2, 2, 2, 2, 2, 2, 2, 2, 2, 2])"
      ]
     },
     "execution_count": 4,
     "metadata": {},
     "output_type": "execute_result"
    }
   ],
   "source": [
    "data.target"
   ]
  },
  {
   "cell_type": "code",
   "execution_count": 17,
   "metadata": {},
   "outputs": [],
   "source": [
    "from sklearn.model_selection import train_test_split\n",
    "from sklearn.tree import DecisionTreeClassifier\n",
    "\n",
    "X_train, X_test, y_train, y_test = train_test_split(data.data, data.target, random_state=42)"
   ]
  },
  {
   "cell_type": "code",
   "execution_count": 18,
   "metadata": {},
   "outputs": [
    {
     "data": {
      "text/plain": [
       "(array([35, 39, 38], dtype=int64), array([15, 11, 12], dtype=int64))"
      ]
     },
     "execution_count": 18,
     "metadata": {},
     "output_type": "execute_result"
    }
   ],
   "source": [
    "import numpy as np \n",
    "np.unique(y_train, return_counts= True)[1], np.unique(y_test, return_counts = True)[1]"
   ]
  },
  {
   "cell_type": "code",
   "execution_count": 19,
   "metadata": {},
   "outputs": [
    {
     "data": {
      "text/plain": [
       "0.9736842105263158"
      ]
     },
     "execution_count": 19,
     "metadata": {},
     "output_type": "execute_result"
    }
   ],
   "source": [
    "model = DecisionTreeClassifier(criterion='entropy')\n",
    "model.fit(X_train, y_train)\n",
    "model.score(X_test, y_test)"
   ]
  },
  {
   "cell_type": "code",
   "execution_count": 22,
   "metadata": {},
   "outputs": [],
   "source": [
    "from sklearn.neighbors import KNeighborsClassifier"
   ]
  },
  {
   "cell_type": "code",
   "execution_count": 28,
   "metadata": {},
   "outputs": [
    {
     "name": "stdout",
     "output_type": "stream",
     "text": [
      "current score is 0.9736842105263158 at md=3, msl=2, mln=7\n",
      "current best score is 0.9736842105263158 at md=3, msl=2, mln=7\n",
      "current score is 0.9736842105263158 at md=3, msl=2, mln=8\n",
      "current score is 0.9736842105263158 at md=3, msl=2, mln=9\n",
      "current score is 0.9736842105263158 at md=3, msl=2, mln=10\n",
      "current score is 0.9736842105263158 at md=3, msl=2, mln=11\n",
      "current score is 0.9736842105263158 at md=3, msl=3, mln=7\n",
      "current score is 0.9736842105263158 at md=3, msl=3, mln=8\n",
      "current score is 0.9736842105263158 at md=3, msl=3, mln=9\n",
      "current score is 0.9736842105263158 at md=3, msl=3, mln=10\n",
      "current score is 0.9736842105263158 at md=3, msl=3, mln=11\n",
      "current score is 0.9736842105263158 at md=3, msl=4, mln=7\n",
      "current score is 0.9736842105263158 at md=3, msl=4, mln=8\n",
      "current score is 0.9736842105263158 at md=3, msl=4, mln=9\n",
      "current score is 0.9736842105263158 at md=3, msl=4, mln=10\n",
      "current score is 0.9736842105263158 at md=3, msl=4, mln=11\n",
      "current score is 0.9736842105263158 at md=3, msl=5, mln=7\n",
      "current score is 0.9736842105263158 at md=3, msl=5, mln=8\n",
      "current score is 0.9736842105263158 at md=3, msl=5, mln=9\n",
      "current score is 0.9736842105263158 at md=3, msl=5, mln=10\n",
      "current score is 0.9736842105263158 at md=3, msl=5, mln=11\n",
      "current score is 0.9736842105263158 at md=3, msl=6, mln=7\n",
      "current score is 0.9736842105263158 at md=3, msl=6, mln=8\n",
      "current score is 0.9736842105263158 at md=3, msl=6, mln=9\n",
      "current score is 0.9736842105263158 at md=3, msl=6, mln=10\n",
      "current score is 0.9736842105263158 at md=3, msl=6, mln=11\n",
      "current score is 0.9736842105263158 at md=3, msl=7, mln=7\n",
      "current score is 0.9736842105263158 at md=3, msl=7, mln=8\n",
      "current score is 0.9736842105263158 at md=3, msl=7, mln=9\n",
      "current score is 0.9736842105263158 at md=3, msl=7, mln=10\n",
      "current score is 0.9736842105263158 at md=3, msl=7, mln=11\n",
      "current score is 0.9736842105263158 at md=3, msl=8, mln=7\n",
      "current score is 0.9736842105263158 at md=3, msl=8, mln=8\n",
      "current score is 0.9736842105263158 at md=3, msl=8, mln=9\n",
      "current score is 0.9736842105263158 at md=3, msl=8, mln=10\n",
      "current score is 0.9736842105263158 at md=3, msl=8, mln=11\n",
      "current score is 0.9736842105263158 at md=3, msl=9, mln=7\n",
      "current score is 0.9736842105263158 at md=3, msl=9, mln=8\n",
      "current score is 0.9736842105263158 at md=3, msl=9, mln=9\n",
      "current score is 0.9736842105263158 at md=3, msl=9, mln=10\n",
      "current score is 0.9736842105263158 at md=3, msl=9, mln=11\n",
      "current score is 0.9736842105263158 at md=3, msl=10, mln=7\n",
      "current score is 0.9736842105263158 at md=3, msl=10, mln=8\n",
      "current score is 0.9736842105263158 at md=3, msl=10, mln=9\n",
      "current score is 0.9736842105263158 at md=3, msl=10, mln=10\n",
      "current score is 0.9736842105263158 at md=3, msl=10, mln=11\n",
      "current score is 1.0 at md=4, msl=2, mln=7\n",
      "current best score is 1.0 at md=4, msl=2, mln=7\n",
      "current score is 1.0 at md=4, msl=2, mln=8\n",
      "current score is 1.0 at md=4, msl=2, mln=9\n",
      "current score is 1.0 at md=4, msl=2, mln=10\n",
      "current score is 1.0 at md=4, msl=2, mln=11\n",
      "current score is 1.0 at md=4, msl=3, mln=7\n",
      "current score is 1.0 at md=4, msl=3, mln=8\n",
      "current score is 1.0 at md=4, msl=3, mln=9\n",
      "current score is 1.0 at md=4, msl=3, mln=10\n",
      "current score is 1.0 at md=4, msl=3, mln=11\n",
      "current score is 1.0 at md=4, msl=4, mln=7\n",
      "current score is 1.0 at md=4, msl=4, mln=8\n",
      "current score is 1.0 at md=4, msl=4, mln=9\n",
      "current score is 1.0 at md=4, msl=4, mln=10\n",
      "current score is 1.0 at md=4, msl=4, mln=11\n",
      "current score is 1.0 at md=4, msl=5, mln=7\n",
      "current score is 1.0 at md=4, msl=5, mln=8\n",
      "current score is 1.0 at md=4, msl=5, mln=9\n",
      "current score is 1.0 at md=4, msl=5, mln=10\n",
      "current score is 1.0 at md=4, msl=5, mln=11\n",
      "current score is 1.0 at md=4, msl=6, mln=7\n",
      "current score is 1.0 at md=4, msl=6, mln=8\n",
      "current score is 1.0 at md=4, msl=6, mln=9\n",
      "current score is 1.0 at md=4, msl=6, mln=10\n",
      "current score is 1.0 at md=4, msl=6, mln=11\n",
      "current score is 0.9736842105263158 at md=4, msl=7, mln=7\n",
      "current score is 0.9736842105263158 at md=4, msl=7, mln=8\n",
      "current score is 0.9736842105263158 at md=4, msl=7, mln=9\n",
      "current score is 0.9736842105263158 at md=4, msl=7, mln=10\n",
      "current score is 0.9736842105263158 at md=4, msl=7, mln=11\n",
      "current score is 0.9736842105263158 at md=4, msl=8, mln=7\n",
      "current score is 0.9736842105263158 at md=4, msl=8, mln=8\n",
      "current score is 0.9736842105263158 at md=4, msl=8, mln=9\n",
      "current score is 0.9736842105263158 at md=4, msl=8, mln=10\n",
      "current score is 0.9736842105263158 at md=4, msl=8, mln=11\n",
      "current score is 0.9736842105263158 at md=4, msl=9, mln=7\n",
      "current score is 0.9736842105263158 at md=4, msl=9, mln=8\n",
      "current score is 0.9736842105263158 at md=4, msl=9, mln=9\n",
      "current score is 0.9736842105263158 at md=4, msl=9, mln=10\n",
      "current score is 0.9736842105263158 at md=4, msl=9, mln=11\n",
      "current score is 0.9736842105263158 at md=4, msl=10, mln=7\n",
      "current score is 0.9736842105263158 at md=4, msl=10, mln=8\n",
      "current score is 0.9736842105263158 at md=4, msl=10, mln=9\n",
      "current score is 0.9736842105263158 at md=4, msl=10, mln=10\n",
      "current score is 0.9736842105263158 at md=4, msl=10, mln=11\n",
      "current score is 1.0 at md=5, msl=2, mln=7\n",
      "current score is 1.0 at md=5, msl=2, mln=8\n",
      "current score is 1.0 at md=5, msl=2, mln=9\n",
      "current score is 1.0 at md=5, msl=2, mln=10\n",
      "current score is 1.0 at md=5, msl=2, mln=11\n",
      "current score is 1.0 at md=5, msl=3, mln=7\n",
      "current score is 1.0 at md=5, msl=3, mln=8\n",
      "current score is 1.0 at md=5, msl=3, mln=9\n",
      "current score is 1.0 at md=5, msl=3, mln=10\n",
      "current score is 1.0 at md=5, msl=3, mln=11\n",
      "current score is 1.0 at md=5, msl=4, mln=7\n",
      "current score is 1.0 at md=5, msl=4, mln=8\n",
      "current score is 1.0 at md=5, msl=4, mln=9\n",
      "current score is 1.0 at md=5, msl=4, mln=10\n",
      "current score is 1.0 at md=5, msl=4, mln=11\n",
      "current score is 1.0 at md=5, msl=5, mln=7\n",
      "current score is 1.0 at md=5, msl=5, mln=8\n",
      "current score is 1.0 at md=5, msl=5, mln=9\n",
      "current score is 1.0 at md=5, msl=5, mln=10\n",
      "current score is 1.0 at md=5, msl=5, mln=11\n",
      "current score is 1.0 at md=5, msl=6, mln=7\n",
      "current score is 1.0 at md=5, msl=6, mln=8\n",
      "current score is 1.0 at md=5, msl=6, mln=9\n",
      "current score is 1.0 at md=5, msl=6, mln=10\n",
      "current score is 1.0 at md=5, msl=6, mln=11\n",
      "current score is 0.9736842105263158 at md=5, msl=7, mln=7\n",
      "current score is 0.9736842105263158 at md=5, msl=7, mln=8\n",
      "current score is 0.9736842105263158 at md=5, msl=7, mln=9\n",
      "current score is 0.9736842105263158 at md=5, msl=7, mln=10\n",
      "current score is 0.9736842105263158 at md=5, msl=7, mln=11\n",
      "current score is 0.9736842105263158 at md=5, msl=8, mln=7\n",
      "current score is 0.9736842105263158 at md=5, msl=8, mln=8\n",
      "current score is 0.9736842105263158 at md=5, msl=8, mln=9\n",
      "current score is 0.9736842105263158 at md=5, msl=8, mln=10\n",
      "current score is 0.9736842105263158 at md=5, msl=8, mln=11\n",
      "current score is 0.9736842105263158 at md=5, msl=9, mln=7\n",
      "current score is 0.9736842105263158 at md=5, msl=9, mln=8\n",
      "current score is 0.9736842105263158 at md=5, msl=9, mln=9\n",
      "current score is 0.9736842105263158 at md=5, msl=9, mln=10\n",
      "current score is 0.9736842105263158 at md=5, msl=9, mln=11\n",
      "current score is 0.9736842105263158 at md=5, msl=10, mln=7\n",
      "current score is 0.9736842105263158 at md=5, msl=10, mln=8\n",
      "current score is 0.9736842105263158 at md=5, msl=10, mln=9\n",
      "current score is 0.9736842105263158 at md=5, msl=10, mln=10\n",
      "current score is 0.9736842105263158 at md=5, msl=10, mln=11\n",
      "{'score': 1.0, 'md': 4, 'msl': 2, 'mln': 7, 'model': DecisionTreeClassifier(criterion='entropy', max_depth=4, max_leaf_nodes=7,\n",
      "                       min_samples_leaf=2)}\n"
     ]
    }
   ],
   "source": [
    "best= {}\n",
    "best['score'] = 0\n",
    "mds = [3,4,5]\n",
    "msls = range(2, 11)\n",
    "mlns = range(7, 12)\n",
    "for md in mds:\n",
    "    for msl in msls:\n",
    "        for mln in mlns:\n",
    "            m = DecisionTreeClassifier(criterion='entropy', max_depth=md, \n",
    "                                       min_samples_leaf=msl, max_leaf_nodes=mln)\n",
    "            m.fit(X_train, y_train)\n",
    "            score = m.score(X_test, y_test)\n",
    "            print(f\"current score is {score} at md={md}, msl={msl}, mln={mln}\")\n",
    "            if score > best['score']:\n",
    "                print(f\"current best score is {score} at md={md}, msl={msl}, mln={mln}\")\n",
    "                best['score'], best['md'], best['msl'], best['mln'], best['model'] = score, md, msl, mln, m\n",
    "print(best)"
   ]
  },
  {
   "cell_type": "code",
   "execution_count": 31,
   "metadata": {},
   "outputs": [
    {
     "data": {
      "text/plain": [
       "{'score': 1.0,\n",
       " 'md': 4,\n",
       " 'msl': 2,\n",
       " 'mln': 7,\n",
       " 'model': DecisionTreeClassifier(criterion='entropy', max_depth=4, max_leaf_nodes=7,\n",
       "                        min_samples_leaf=2)}"
      ]
     },
     "execution_count": 31,
     "metadata": {},
     "output_type": "execute_result"
    }
   ],
   "source": [
    "best"
   ]
  },
  {
   "cell_type": "code",
   "execution_count": null,
   "metadata": {},
   "outputs": [],
   "source": []
  }
 ],
 "metadata": {
  "interpreter": {
   "hash": "9459de32d5ca2a57cd93a1169c99c6090e3e7c98f7fac5dc8fa5b4017ec3f43e"
  },
  "kernelspec": {
   "display_name": "Python 3.8.8 64-bit ('base': conda)",
   "language": "python",
   "name": "python3"
  },
  "language_info": {
   "codemirror_mode": {
    "name": "ipython",
    "version": 3
   },
   "file_extension": ".py",
   "mimetype": "text/x-python",
   "name": "python",
   "nbconvert_exporter": "python",
   "pygments_lexer": "ipython3",
   "version": "3.8.8"
  },
  "orig_nbformat": 4
 },
 "nbformat": 4,
 "nbformat_minor": 2
}
