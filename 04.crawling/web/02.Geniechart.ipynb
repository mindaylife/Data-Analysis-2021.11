{
 "cells": [
  {
   "cell_type": "markdown",
   "metadata": {},
   "source": [
    "- 지니차트 top200 chart"
   ]
  },
  {
   "cell_type": "code",
   "execution_count": 1,
   "metadata": {},
   "outputs": [],
   "source": [
    "import requests\n",
    "import pandas as pd"
   ]
  },
  {
   "cell_type": "markdown",
   "metadata": {},
   "source": [
    "### 인터넷에서 데이터 가져오기"
   ]
  },
  {
   "cell_type": "code",
   "execution_count": 2,
   "metadata": {},
   "outputs": [
    {
     "data": {
      "text/plain": [
       "'<br>\\r\\n<br>\\r\\n<center>\\r\\n<img src=\"http://www.geniemusic.co.kr/images/common/logo_r1.png\"><br>\\r\\n<h2> <meta http-equiv=\"Content-Type\" content=\"text/html;charset=UTF-8\"> ì\\xa0\\x91ì\\x86\\x8dì\\x9a\\x94ì²\\xadì\\x9d´ ë³´ì\\x95\\x88ì\\xa0\\x95ì±\\x85ì\\x97\\x90 ì\\x9d\\x98í\\x95´ ì°¨ë\\x8b¨ë\\x90\\x98ì\\x97\\x88ì\\x8aµë\\x8b\\x88ë\\x8b¤. ë\\x8b¹ì\\x82¬ ê³\\xa0ê°\\x9dì\\x84¼í\\x84°ë¡\\x9c ë¬¸ì\\x9d\\x98í\\x95´ì£¼ì\\x8b\\xadì\\x8b\\x9cì\\x98¤.<br><br>\\r\\nThe security policy of the connection request is blocked. Contact your customer service representative.<br><br>\\r\\nì§\\x80ë\\x8b\\x88ë®¤ì§\\x81 ê³\\xa0ê°\\x9dì\\x84¼í\\x84° 1577-5337<br><br>\\r\\n</h2>\\r\\n</center>\\r\\n<br>'"
      ]
     },
     "execution_count": 2,
     "metadata": {},
     "output_type": "execute_result"
    }
   ],
   "source": [
    "url = 'https://www.genie.co.kr/chart/top200'\n",
    "req = requests.get(url)\n",
    "html = req.text\n",
    "html"
   ]
  },
  {
   "cell_type": "code",
   "execution_count": 4,
   "metadata": {},
   "outputs": [],
   "source": [
    "# Chrome User-Agent\n",
    "header = {'User-Agent':\n",
    "          \"Mozilla/5.0 (Windows NT 10.0; Win64; x64) AppleWebKit/537.36 (KHTML, like Gecko) Chrome/80.0.3987.122 Safari/537.36\"}\n",
    "req = requests.get(url, headers=header)\n",
    "html = req.text\n",
    "#html"
   ]
  },
  {
   "cell_type": "code",
   "execution_count": 6,
   "metadata": {},
   "outputs": [],
   "source": [
    "from bs4 import BeautifulSoup\n",
    "\n",
    "soup = BeautifulSoup(html, 'html.parser')"
   ]
  },
  {
   "cell_type": "markdown",
   "metadata": {},
   "source": [
    "### 찾으려고 하는 데이터의 노드 찾기"
   ]
  },
  {
   "cell_type": "code",
   "execution_count": 7,
   "metadata": {},
   "outputs": [
    {
     "data": {
      "text/plain": [
       "51"
      ]
     },
     "execution_count": 7,
     "metadata": {},
     "output_type": "execute_result"
    }
   ],
   "source": [
    "trs = soup.find_all('tr')\n",
    "len(trs)"
   ]
  },
  {
   "cell_type": "code",
   "execution_count": 9,
   "metadata": {},
   "outputs": [
    {
     "data": {
      "text/plain": [
       "50"
      ]
     },
     "execution_count": 9,
     "metadata": {},
     "output_type": "execute_result"
    }
   ],
   "source": [
    "tbody = soup.select_one('table.list-wrap').find('tbody')\n",
    "trs = tbody.select('tr')\n",
    "len(trs)"
   ]
  },
  {
   "cell_type": "code",
   "execution_count": 13,
   "metadata": {},
   "outputs": [
    {
     "data": {
      "text/plain": [
       "50"
      ]
     },
     "execution_count": 13,
     "metadata": {},
     "output_type": "execute_result"
    }
   ],
   "source": [
    "# 개발자 도구에서 찾아주는 selector\n",
    "tbody = soup.select_one('#body-content > div.newest-list > div > table > tbody')\n",
    "trs = tbody.select('tr')\n",
    "len(trs)"
   ]
  },
  {
   "cell_type": "markdown",
   "metadata": {},
   "source": [
    "- XPath 값은 아래와 같으나 BeautifupSoup은 지원하지 않음 \n",
    "<pre>\n",
    "//*[@id=\"body-content\"]/div[6]/div/table/tbody<pre>"
   ]
  },
  {
   "cell_type": "markdown",
   "metadata": {},
   "source": [
    "### 3. 여러개의 데이터 중 하나를 선택해서 원하는 정보를 추출\n",
    "- rank, title, artist, album"
   ]
  },
  {
   "cell_type": "code",
   "execution_count": 31,
   "metadata": {},
   "outputs": [],
   "source": [
    "tr = trs[0]"
   ]
  },
  {
   "cell_type": "code",
   "execution_count": 16,
   "metadata": {},
   "outputs": [
    {
     "data": {
      "text/plain": [
       "'1\\n                                        \\n                                    \\n유지\\n\\n'"
      ]
     },
     "execution_count": 16,
     "metadata": {},
     "output_type": "execute_result"
    }
   ],
   "source": [
    "# rank\n",
    "tr.select_one('.number').get_text()"
   ]
  },
  {
   "cell_type": "code",
   "execution_count": 18,
   "metadata": {},
   "outputs": [
    {
     "data": {
      "text/plain": [
       "'1'"
      ]
     },
     "execution_count": 18,
     "metadata": {},
     "output_type": "execute_result"
    }
   ],
   "source": [
    "rank = tr.select_one('.number').get_text().split('\\n')[0]\n",
    "rank"
   ]
  },
  {
   "cell_type": "code",
   "execution_count": 21,
   "metadata": {},
   "outputs": [
    {
     "data": {
      "text/plain": [
       "'\\n                                        \\n                                            \\n                                        \\n                                        \\n                                        \\n                                        \\n                                            \\n                                                리무진 (Feat. MINO) (Prod. by GRAY)'"
      ]
     },
     "execution_count": 21,
     "metadata": {},
     "output_type": "execute_result"
    }
   ],
   "source": [
    "# title\n",
    "tr.select_one('.title.ellipsis').get_text()"
   ]
  },
  {
   "cell_type": "code",
   "execution_count": 23,
   "metadata": {},
   "outputs": [
    {
     "data": {
      "text/plain": [
       "'리무진 (Feat. MINO) (Prod. by GRAY)'"
      ]
     },
     "execution_count": 23,
     "metadata": {},
     "output_type": "execute_result"
    }
   ],
   "source": [
    "title = tr.select_one('.title.ellipsis').get_text().strip()\n",
    "title"
   ]
  },
  {
   "cell_type": "code",
   "execution_count": 26,
   "metadata": {},
   "outputs": [
    {
     "data": {
      "text/plain": [
       "\"BE'O (비오)\""
      ]
     },
     "execution_count": 26,
     "metadata": {},
     "output_type": "execute_result"
    }
   ],
   "source": [
    "# artist\n",
    "artist = tr.select_one('.artist.ellipsis').get_text()\n",
    "artist"
   ]
  },
  {
   "cell_type": "code",
   "execution_count": 29,
   "metadata": {},
   "outputs": [
    {
     "data": {
      "text/plain": [
       "'쇼미더머니 10 Episode 3'"
      ]
     },
     "execution_count": 29,
     "metadata": {},
     "output_type": "execute_result"
    }
   ],
   "source": [
    "# album\n",
    "album = tr.select_one('.albumtitle.ellipsis').get_text()\n",
    "album"
   ]
  },
  {
   "cell_type": "markdown",
   "metadata": {},
   "source": [
    "### 4. 한페이지에 있는 모든 데이터를 반복문으로 가져와 데이터 프레임 만들기"
   ]
  },
  {
   "cell_type": "code",
   "execution_count": 32,
   "metadata": {},
   "outputs": [],
   "source": [
    "rank_list, title_list, artist_list, album_list = [],[],[],[]\n",
    "for tr in trs:\n",
    "    rank = tr.select_one('.number').get_text().split('\\n')[0]\n",
    "    title = tr.select_one('.title.ellipsis').get_text().strip()\n",
    "    artist = tr.select_one('.artist.ellipsis').get_text()\n",
    "    album = tr.select_one('.albumtitle.ellipsis').get_text()\n",
    "    rank_list.append(rank), \n",
    "    title_list.append(title), \n",
    "    artist_list.append(artist), \n",
    "    album_list.append(album)\n",
    "    "
   ]
  },
  {
   "cell_type": "code",
   "execution_count": 35,
   "metadata": {},
   "outputs": [
    {
     "data": {
      "text/html": [
       "<div>\n",
       "<style scoped>\n",
       "    .dataframe tbody tr th:only-of-type {\n",
       "        vertical-align: middle;\n",
       "    }\n",
       "\n",
       "    .dataframe tbody tr th {\n",
       "        vertical-align: top;\n",
       "    }\n",
       "\n",
       "    .dataframe thead th {\n",
       "        text-align: right;\n",
       "    }\n",
       "</style>\n",
       "<table border=\"1\" class=\"dataframe\">\n",
       "  <thead>\n",
       "    <tr style=\"text-align: right;\">\n",
       "      <th></th>\n",
       "      <th>순위</th>\n",
       "      <th>제목</th>\n",
       "      <th>가수</th>\n",
       "      <th>앨범</th>\n",
       "    </tr>\n",
       "  </thead>\n",
       "  <tbody>\n",
       "    <tr>\n",
       "      <th>0</th>\n",
       "      <td>1</td>\n",
       "      <td>리무진 (Feat. MINO) (Prod. by GRAY)</td>\n",
       "      <td>BE'O (비오)</td>\n",
       "      <td>쇼미더머니 10 Episode 3</td>\n",
       "    </tr>\n",
       "    <tr>\n",
       "      <th>1</th>\n",
       "      <td>2</td>\n",
       "      <td>회전목마 (Feat. Zion.T &amp; 원슈타인) (Prod. by Slom)</td>\n",
       "      <td>sokodomo</td>\n",
       "      <td>쇼미더머니 10 Episode 2</td>\n",
       "    </tr>\n",
       "    <tr>\n",
       "      <th>2</th>\n",
       "      <td>3</td>\n",
       "      <td>만남은 쉽고 이별은 어려워 (Feat. Leellamarz) (Prod. by TOIL)</td>\n",
       "      <td>베이식</td>\n",
       "      <td>쇼미더머니 10 Episode 3</td>\n",
       "    </tr>\n",
       "    <tr>\n",
       "      <th>3</th>\n",
       "      <td>4</td>\n",
       "      <td>불협화음 (Feat. AKMU) (Prod. by GRAY)</td>\n",
       "      <td>Mudd the student</td>\n",
       "      <td>쇼미더머니 10 Semi Final</td>\n",
       "    </tr>\n",
       "    <tr>\n",
       "      <th>4</th>\n",
       "      <td>5</td>\n",
       "      <td>쉬어 (Feat. MINO) (Prod. by GRAY)</td>\n",
       "      <td>아넌딜라이트 (Anandelight) &amp; Unofficialboyy &amp; BE'O (...</td>\n",
       "      <td>쇼미더머니 10 Episode 1</td>\n",
       "    </tr>\n",
       "  </tbody>\n",
       "</table>\n",
       "</div>"
      ],
      "text/plain": [
       "  순위                                                 제목  \\\n",
       "0  1                   리무진 (Feat. MINO) (Prod. by GRAY)   \n",
       "1  2         회전목마 (Feat. Zion.T & 원슈타인) (Prod. by Slom)   \n",
       "2  3  만남은 쉽고 이별은 어려워 (Feat. Leellamarz) (Prod. by TOIL)   \n",
       "3  4                  불협화음 (Feat. AKMU) (Prod. by GRAY)   \n",
       "4  5                    쉬어 (Feat. MINO) (Prod. by GRAY)   \n",
       "\n",
       "                                                  가수                   앨범  \n",
       "0                                          BE'O (비오)   쇼미더머니 10 Episode 3  \n",
       "1                                           sokodomo   쇼미더머니 10 Episode 2  \n",
       "2                                                베이식   쇼미더머니 10 Episode 3  \n",
       "3                                   Mudd the student  쇼미더머니 10 Semi Final  \n",
       "4  아넌딜라이트 (Anandelight) & Unofficialboyy & BE'O (...   쇼미더머니 10 Episode 1  "
      ]
     },
     "execution_count": 35,
     "metadata": {},
     "output_type": "execute_result"
    }
   ],
   "source": [
    "df = pd.DataFrame({\n",
    "    '순위':rank_list, '제목':title_list, '가수':artist_list, '앨범':album_list\n",
    "})\n",
    "df.head()"
   ]
  },
  {
   "cell_type": "code",
   "execution_count": 40,
   "metadata": {},
   "outputs": [
    {
     "data": {
      "text/html": [
       "<div>\n",
       "<style scoped>\n",
       "    .dataframe tbody tr th:only-of-type {\n",
       "        vertical-align: middle;\n",
       "    }\n",
       "\n",
       "    .dataframe tbody tr th {\n",
       "        vertical-align: top;\n",
       "    }\n",
       "\n",
       "    .dataframe thead th {\n",
       "        text-align: right;\n",
       "    }\n",
       "</style>\n",
       "<table border=\"1\" class=\"dataframe\">\n",
       "  <thead>\n",
       "    <tr style=\"text-align: right;\">\n",
       "      <th></th>\n",
       "      <th>순위</th>\n",
       "      <th>제목</th>\n",
       "      <th>가수</th>\n",
       "      <th>앨범</th>\n",
       "    </tr>\n",
       "  </thead>\n",
       "  <tbody>\n",
       "    <tr>\n",
       "      <th>0</th>\n",
       "      <td>1</td>\n",
       "      <td>리무진 (Feat. MINO) (Prod. by GRAY)</td>\n",
       "      <td>BE'O (비오)</td>\n",
       "      <td>쇼미더머니 10 Episode 3</td>\n",
       "    </tr>\n",
       "    <tr>\n",
       "      <th>1</th>\n",
       "      <td>2</td>\n",
       "      <td>회전목마 (Feat. Zion.T &amp; 원슈타인) (Prod. by Slom)</td>\n",
       "      <td>sokodomo</td>\n",
       "      <td>쇼미더머니 10 Episode 2</td>\n",
       "    </tr>\n",
       "    <tr>\n",
       "      <th>2</th>\n",
       "      <td>3</td>\n",
       "      <td>만남은 쉽고 이별은 어려워 (Feat. Leellamarz) (Prod. by TOIL)</td>\n",
       "      <td>베이식</td>\n",
       "      <td>쇼미더머니 10 Episode 3</td>\n",
       "    </tr>\n",
       "    <tr>\n",
       "      <th>3</th>\n",
       "      <td>4</td>\n",
       "      <td>불협화음 (Feat. AKMU) (Prod. by GRAY)</td>\n",
       "      <td>Mudd the student</td>\n",
       "      <td>쇼미더머니 10 Semi Final</td>\n",
       "    </tr>\n",
       "    <tr>\n",
       "      <th>4</th>\n",
       "      <td>5</td>\n",
       "      <td>쉬어 (Feat. MINO) (Prod. by GRAY)</td>\n",
       "      <td>아넌딜라이트 (Anandelight) &amp; Unofficialboyy &amp; BE'O (...</td>\n",
       "      <td>쇼미더머니 10 Episode 1</td>\n",
       "    </tr>\n",
       "  </tbody>\n",
       "</table>\n",
       "</div>"
      ],
      "text/plain": [
       "  순위                                                 제목  \\\n",
       "0  1                   리무진 (Feat. MINO) (Prod. by GRAY)   \n",
       "1  2         회전목마 (Feat. Zion.T & 원슈타인) (Prod. by Slom)   \n",
       "2  3  만남은 쉽고 이별은 어려워 (Feat. Leellamarz) (Prod. by TOIL)   \n",
       "3  4                  불협화음 (Feat. AKMU) (Prod. by GRAY)   \n",
       "4  5                    쉬어 (Feat. MINO) (Prod. by GRAY)   \n",
       "\n",
       "                                                  가수                   앨범  \n",
       "0                                          BE'O (비오)   쇼미더머니 10 Episode 3  \n",
       "1                                           sokodomo   쇼미더머니 10 Episode 2  \n",
       "2                                                베이식   쇼미더머니 10 Episode 3  \n",
       "3                                   Mudd the student  쇼미더머니 10 Semi Final  \n",
       "4  아넌딜라이트 (Anandelight) & Unofficialboyy & BE'O (...   쇼미더머니 10 Episode 1  "
      ]
     },
     "execution_count": 40,
     "metadata": {},
     "output_type": "execute_result"
    }
   ],
   "source": [
    "lines = []\n",
    "for tr in trs:\n",
    "    rank = tr.select_one('.number').get_text().split('\\n')[0]\n",
    "    title = tr.select_one('.title.ellipsis').get_text().strip()\n",
    "    artist = tr.select_one('.artist.ellipsis').get_text()\n",
    "    album = tr.select_one('.albumtitle.ellipsis').get_text()\n",
    "    lines.append([rank, title, artist, album])\n",
    "\n",
    "df = pd.DataFrame(lines, columns =['순위', '제목', '가수', '앨범'])\n",
    "df.head()"
   ]
  },
  {
   "cell_type": "code",
   "execution_count": 43,
   "metadata": {},
   "outputs": [
    {
     "data": {
      "text/html": [
       "<div>\n",
       "<style scoped>\n",
       "    .dataframe tbody tr th:only-of-type {\n",
       "        vertical-align: middle;\n",
       "    }\n",
       "\n",
       "    .dataframe tbody tr th {\n",
       "        vertical-align: top;\n",
       "    }\n",
       "\n",
       "    .dataframe thead th {\n",
       "        text-align: right;\n",
       "    }\n",
       "</style>\n",
       "<table border=\"1\" class=\"dataframe\">\n",
       "  <thead>\n",
       "    <tr style=\"text-align: right;\">\n",
       "      <th></th>\n",
       "      <th>순위</th>\n",
       "      <th>제목</th>\n",
       "      <th>가수</th>\n",
       "      <th>앨범</th>\n",
       "    </tr>\n",
       "  </thead>\n",
       "  <tbody>\n",
       "    <tr>\n",
       "      <th>0</th>\n",
       "      <td>1</td>\n",
       "      <td>리무진 (Feat. MINO) (Prod. by GRAY)</td>\n",
       "      <td>BE'O (비오)</td>\n",
       "      <td>쇼미더머니 10 Episode 3</td>\n",
       "    </tr>\n",
       "    <tr>\n",
       "      <th>1</th>\n",
       "      <td>2</td>\n",
       "      <td>회전목마 (Feat. Zion.T &amp; 원슈타인) (Prod. by Slom)</td>\n",
       "      <td>sokodomo</td>\n",
       "      <td>쇼미더머니 10 Episode 2</td>\n",
       "    </tr>\n",
       "    <tr>\n",
       "      <th>2</th>\n",
       "      <td>3</td>\n",
       "      <td>만남은 쉽고 이별은 어려워 (Feat. Leellamarz) (Prod. by TOIL)</td>\n",
       "      <td>베이식</td>\n",
       "      <td>쇼미더머니 10 Episode 3</td>\n",
       "    </tr>\n",
       "    <tr>\n",
       "      <th>3</th>\n",
       "      <td>4</td>\n",
       "      <td>불협화음 (Feat. AKMU) (Prod. by GRAY)</td>\n",
       "      <td>Mudd the student</td>\n",
       "      <td>쇼미더머니 10 Semi Final</td>\n",
       "    </tr>\n",
       "    <tr>\n",
       "      <th>4</th>\n",
       "      <td>5</td>\n",
       "      <td>쉬어 (Feat. MINO) (Prod. by GRAY)</td>\n",
       "      <td>아넌딜라이트 (Anandelight) &amp; Unofficialboyy &amp; BE'O (...</td>\n",
       "      <td>쇼미더머니 10 Episode 1</td>\n",
       "    </tr>\n",
       "  </tbody>\n",
       "</table>\n",
       "</div>"
      ],
      "text/plain": [
       "  순위                                                 제목  \\\n",
       "0  1                   리무진 (Feat. MINO) (Prod. by GRAY)   \n",
       "1  2         회전목마 (Feat. Zion.T & 원슈타인) (Prod. by Slom)   \n",
       "2  3  만남은 쉽고 이별은 어려워 (Feat. Leellamarz) (Prod. by TOIL)   \n",
       "3  4                  불협화음 (Feat. AKMU) (Prod. by GRAY)   \n",
       "4  5                    쉬어 (Feat. MINO) (Prod. by GRAY)   \n",
       "\n",
       "                                                  가수                   앨범  \n",
       "0                                          BE'O (비오)   쇼미더머니 10 Episode 3  \n",
       "1                                           sokodomo   쇼미더머니 10 Episode 2  \n",
       "2                                                베이식   쇼미더머니 10 Episode 3  \n",
       "3                                   Mudd the student  쇼미더머니 10 Semi Final  \n",
       "4  아넌딜라이트 (Anandelight) & Unofficialboyy & BE'O (...   쇼미더머니 10 Episode 1  "
      ]
     },
     "execution_count": 43,
     "metadata": {},
     "output_type": "execute_result"
    }
   ],
   "source": [
    "lines = []\n",
    "for tr in trs:\n",
    "    rank = tr.select_one('.number').get_text().split('\\n')[0]\n",
    "    title = tr.select_one('.title.ellipsis').get_text().strip()\n",
    "    artist = tr.select_one('.artist.ellipsis').get_text()\n",
    "    album = tr.select_one('.albumtitle.ellipsis').get_text()\n",
    "    d = {'순위':rank, '제목':title, '가수':artist, '앨범':album}\n",
    "    lines.append(d)\n",
    "\n",
    "df = pd.DataFrame(lines)\n",
    "df.head()"
   ]
  },
  {
   "cell_type": "markdown",
   "metadata": {},
   "source": [
    "### 5. 모든 페이지의 데이터 가져오기"
   ]
  },
  {
   "cell_type": "code",
   "execution_count": 47,
   "metadata": {},
   "outputs": [
    {
     "data": {
      "text/html": [
       "<div>\n",
       "<style scoped>\n",
       "    .dataframe tbody tr th:only-of-type {\n",
       "        vertical-align: middle;\n",
       "    }\n",
       "\n",
       "    .dataframe tbody tr th {\n",
       "        vertical-align: top;\n",
       "    }\n",
       "\n",
       "    .dataframe thead th {\n",
       "        text-align: right;\n",
       "    }\n",
       "</style>\n",
       "<table border=\"1\" class=\"dataframe\">\n",
       "  <thead>\n",
       "    <tr style=\"text-align: right;\">\n",
       "      <th></th>\n",
       "      <th>순위</th>\n",
       "      <th>제목</th>\n",
       "      <th>가수</th>\n",
       "      <th>앨범</th>\n",
       "    </tr>\n",
       "  </thead>\n",
       "  <tbody>\n",
       "    <tr>\n",
       "      <th>195</th>\n",
       "      <td>196</td>\n",
       "      <td>＋82 (Prod. by 다이나믹 듀오 &amp; THAMA)</td>\n",
       "      <td>팔로알토 (Paloalto) &amp; 기리보이 &amp; 다이나믹 듀오 &amp; 저스디스 (JUSTH...</td>\n",
       "      <td>쇼미더머니 10 Final</td>\n",
       "    </tr>\n",
       "    <tr>\n",
       "      <th>196</th>\n",
       "      <td>197</td>\n",
       "      <td>DINOSAUR</td>\n",
       "      <td>AKMU (악뮤)</td>\n",
       "      <td>SUMMER EPISODE</td>\n",
       "    </tr>\n",
       "    <tr>\n",
       "      <th>197</th>\n",
       "      <td>198</td>\n",
       "      <td>추적이는 여름 비가 되어</td>\n",
       "      <td>장범준</td>\n",
       "      <td>장범준 싱글</td>\n",
       "    </tr>\n",
       "    <tr>\n",
       "      <th>198</th>\n",
       "      <td>199</td>\n",
       "      <td>좋은 사람 있으면 소개시켜줘</td>\n",
       "      <td>조이 (JOY)</td>\n",
       "      <td>슬기로운 의사생활 OST Part 2 (tvN 목요드라마)</td>\n",
       "    </tr>\n",
       "    <tr>\n",
       "      <th>199</th>\n",
       "      <td>200</td>\n",
       "      <td>밤하늘의 별을 (Original)</td>\n",
       "      <td>임한별</td>\n",
       "      <td>밤하늘의 별을 (Original)</td>\n",
       "    </tr>\n",
       "  </tbody>\n",
       "</table>\n",
       "</div>"
      ],
      "text/plain": [
       "      순위                              제목  \\\n",
       "195  196  ＋82 (Prod. by 다이나믹 듀오 & THAMA)   \n",
       "196  197                        DINOSAUR   \n",
       "197  198                   추적이는 여름 비가 되어   \n",
       "198  199                 좋은 사람 있으면 소개시켜줘   \n",
       "199  200              밤하늘의 별을 (Original)   \n",
       "\n",
       "                                                    가수  \\\n",
       "195  팔로알토 (Paloalto) & 기리보이 & 다이나믹 듀오 & 저스디스 (JUSTH...   \n",
       "196                                          AKMU (악뮤)   \n",
       "197                                                장범준   \n",
       "198                                           조이 (JOY)   \n",
       "199                                                임한별   \n",
       "\n",
       "                                   앨범  \n",
       "195                    쇼미더머니 10 Final  \n",
       "196                    SUMMER EPISODE  \n",
       "197                            장범준 싱글  \n",
       "198  슬기로운 의사생활 OST Part 2 (tvN 목요드라마)  \n",
       "199                밤하늘의 별을 (Original)  "
      ]
     },
     "execution_count": 47,
     "metadata": {},
     "output_type": "execute_result"
    }
   ],
   "source": [
    "Lines = []\n",
    "for page in range(1,5):\n",
    "    url = f'https://www.genie.co.kr/chart/top200?ditc=D&ymd=20211206&hh=10&rtm=Y&pg={page}'\n",
    "    req = requests.get(url, headers=header)\n",
    "    html = req.text\n",
    "    soup = BeautifulSoup(html, 'html.parser')\n",
    "    tbody = soup.select_one('table.list-wrap').find('tbody')\n",
    "    trs = tbody.select('tr')\n",
    "    for tr in trs:\n",
    "        rank = tr.select_one('.number').get_text().split('\\n')[0]\n",
    "        title = tr.select_one('.title.ellipsis').get_text().strip()\n",
    "        artist = tr.select_one('.artist.ellipsis').get_text()\n",
    "        album = tr.select_one('.albumtitle.ellipsis').get_text()\n",
    "        d = {'순위':rank, '제목':title, '가수':artist, '앨범':album}\n",
    "        Lines.append(d)\n",
    "\n",
    "df = pd.DataFrame(Lines)\n",
    "df.tail()\n",
    "    "
   ]
  },
  {
   "cell_type": "code",
   "execution_count": 48,
   "metadata": {},
   "outputs": [],
   "source": [
    "df.to_csv('지니차트_Top200(21.12.06).csv', index=False)"
   ]
  },
  {
   "cell_type": "code",
   "execution_count": null,
   "metadata": {},
   "outputs": [],
   "source": []
  }
 ],
 "metadata": {
  "interpreter": {
   "hash": "9459de32d5ca2a57cd93a1169c99c6090e3e7c98f7fac5dc8fa5b4017ec3f43e"
  },
  "kernelspec": {
   "display_name": "Python 3.8.8 64-bit ('base': conda)",
   "language": "python",
   "name": "python3"
  },
  "language_info": {
   "codemirror_mode": {
    "name": "ipython",
    "version": 3
   },
   "file_extension": ".py",
   "mimetype": "text/x-python",
   "name": "python",
   "nbconvert_exporter": "python",
   "pygments_lexer": "ipython3",
   "version": "3.8.8"
  },
  "orig_nbformat": 4
 },
 "nbformat": 4,
 "nbformat_minor": 2
}
