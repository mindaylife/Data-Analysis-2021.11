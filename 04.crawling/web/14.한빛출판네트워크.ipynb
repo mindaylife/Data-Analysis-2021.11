{
 "cells": [
  {
   "cell_type": "markdown",
   "metadata": {},
   "source": [
    "# 새로나온책 (1~10페이지 총 200권)\n",
    "-제목, 저자, 번역자, 출간일, 페이지, 정가, 판매가, 마일리지를 크롤링"
   ]
  },
  {
   "cell_type": "code",
   "execution_count": 2,
   "metadata": {},
   "outputs": [],
   "source": [
    "from selenium import webdriver\n",
    "from bs4 import BeautifulSoup\n",
    "import time\n",
    "import pandas as pd\n",
    "import requests\n",
    "from urllib.parse import quote"
   ]
  },
  {
   "cell_type": "code",
   "execution_count": 181,
   "metadata": {},
   "outputs": [],
   "source": [
    "url = 'https://www.hanbit.co.kr/store/books/new_book_list.html?page='\n",
    "site = 'https://www.hanbit.co.kr/'\n",
    "req = requests.get(url)\n",
    "html = req.text\n",
    "soup = BeautifulSoup(html, 'html.parser')"
   ]
  },
  {
   "cell_type": "code",
   "execution_count": 182,
   "metadata": {},
   "outputs": [
    {
     "data": {
      "text/plain": [
       "20"
      ]
     },
     "execution_count": 182,
     "metadata": {},
     "output_type": "execute_result"
    }
   ],
   "source": [
    "lis =soup.select(\".sub_book_list_area > li\")  \n",
    "len(lis)"
   ]
  },
  {
   "cell_type": "code",
   "execution_count": 183,
   "metadata": {},
   "outputs": [
    {
     "data": {
      "text/plain": [
       "'/store/books/look.php?p_code=B3128413784'"
      ]
     },
     "execution_count": 183,
     "metadata": {},
     "output_type": "execute_result"
    }
   ],
   "source": [
    "li = lis[2]\n",
    "href = li.find('a')['href']\n",
    "href"
   ]
  },
  {
   "cell_type": "code",
   "execution_count": 184,
   "metadata": {},
   "outputs": [],
   "source": [
    "sub_url = site + href\n",
    "sub_req = requests.get(sub_url)\n",
    "sub_html = sub_req.text\n",
    "sub_soup = BeautifulSoup(sub_html, 'html.parser')"
   ]
  },
  {
   "cell_type": "code",
   "execution_count": 185,
   "metadata": {},
   "outputs": [
    {
     "data": {
      "text/plain": [
       "'당당한 디자인 결정을 위한 9가지 방법'"
      ]
     },
     "execution_count": 185,
     "metadata": {},
     "output_type": "execute_result"
    }
   ],
   "source": [
    "# 제목\n",
    "name = li.select_one('.book_tit').string\n",
    "name"
   ]
  },
  {
   "cell_type": "code",
   "execution_count": 186,
   "metadata": {},
   "outputs": [
    {
     "data": {
      "text/plain": [
       "'톰 그리버 '"
      ]
     },
     "execution_count": 186,
     "metadata": {},
     "output_type": "execute_result"
    }
   ],
   "source": [
    "# 저자\n",
    "artist = li.select_one('.book_writer').string\n",
    "artist"
   ]
  },
  {
   "cell_type": "code",
   "execution_count": 187,
   "metadata": {},
   "outputs": [
    {
     "data": {
      "text/plain": [
       "'김민성 , 곽서희 '"
      ]
     },
     "execution_count": 187,
     "metadata": {},
     "output_type": "execute_result"
    }
   ],
   "source": [
    "# 번역\n",
    "if len(sub_soup.select_one('.info_list').find_all('li')) == 6:\n",
    "    translate = sub_soup.select_one('.info_list').find_all('li')[1].find('span').string\n",
    "else:\n",
    "    translate = '없음'\n",
    "translate"
   ]
  },
  {
   "cell_type": "code",
   "execution_count": 188,
   "metadata": {},
   "outputs": [
    {
     "data": {
      "text/plain": [
       "'2021-12-10'"
      ]
     },
     "execution_count": 188,
     "metadata": {},
     "output_type": "execute_result"
    }
   ],
   "source": [
    "#출간일\n",
    "day = sub_soup.select_one('.info_list').find_all('li')[-4].find('span').string\n",
    "day"
   ]
  },
  {
   "cell_type": "code",
   "execution_count": 189,
   "metadata": {},
   "outputs": [
    {
     "data": {
      "text/plain": [
       "'376 쪽'"
      ]
     },
     "execution_count": 189,
     "metadata": {},
     "output_type": "execute_result"
    }
   ],
   "source": [
    "#페이지\n",
    "page = sub_soup.select_one('.info_list').find_all('li')[-3].find('span').string\n",
    "page"
   ]
  },
  {
   "cell_type": "code",
   "execution_count": 190,
   "metadata": {},
   "outputs": [
    {
     "data": {
      "text/plain": [
       "'22,000원'"
      ]
     },
     "execution_count": 190,
     "metadata": {},
     "output_type": "execute_result"
    }
   ],
   "source": [
    "# 정가\n",
    "price = sub_soup.select_one('.pbr').find('del').string\n",
    "price"
   ]
  },
  {
   "cell_type": "code",
   "execution_count": 191,
   "metadata": {},
   "outputs": [
    {
     "data": {
      "text/plain": [
       "'19,800'"
      ]
     },
     "execution_count": 191,
     "metadata": {},
     "output_type": "execute_result"
    }
   ],
   "source": [
    "# 판매가\n",
    "cost = sub_soup.select('.pbr')[1].find('strong').string\n",
    "cost"
   ]
  },
  {
   "cell_type": "code",
   "execution_count": 192,
   "metadata": {},
   "outputs": [
    {
     "data": {
      "text/plain": [
       "'1,100점 (5%)'"
      ]
     },
     "execution_count": 192,
     "metadata": {},
     "output_type": "execute_result"
    }
   ],
   "source": [
    "# 마일리지\n",
    "mile = sub_soup.select('.pbr')[-1].string\n",
    "mile"
   ]
  },
  {
   "cell_type": "markdown",
   "metadata": {},
   "source": [
    "#### 1페이지 확인 겸 출력"
   ]
  },
  {
   "cell_type": "code",
   "execution_count": 205,
   "metadata": {},
   "outputs": [],
   "source": [
    "lines = []\n",
    "for li in lis:\n",
    "    href = li.find('a')['href']\n",
    "    name = li.select_one('.book_tit').string\n",
    "    artist = li.select_one('.book_writer').string\n",
    "\n",
    "    sub_url = site + href\n",
    "    sub_req = requests.get(sub_url)\n",
    "    sub_html = sub_req.text\n",
    "    sub_soup = BeautifulSoup(sub_html, 'html.parser')\n",
    "\n",
    "    if len(sub_soup.select_one('.info_list').find_all('li')) == 6:\n",
    "        translate = sub_soup.select_one('.info_list').find_all('li')[1].find('span').string\n",
    "    else:\n",
    "        translate = '없음'\n",
    "    day = sub_soup.select_one('.info_list').find_all('li')[-4].find('span').string\n",
    "    page = sub_soup.select_one('.info_list').find_all('li')[-3].find('span').string\n",
    "    price = sub_soup.select_one('.pbr').find('del').string\n",
    "    cost = sub_soup.select('.pbr')[1].find('strong').string\n",
    "    mile = sub_soup.select('.pbr')[-1].string\n",
    "\n",
    "    lines.append([name, artist, translate, day, page, price, cost, mile])\n",
    "    "
   ]
  },
  {
   "cell_type": "code",
   "execution_count": 194,
   "metadata": {},
   "outputs": [
    {
     "data": {
      "text/html": [
       "<div>\n",
       "<style scoped>\n",
       "    .dataframe tbody tr th:only-of-type {\n",
       "        vertical-align: middle;\n",
       "    }\n",
       "\n",
       "    .dataframe tbody tr th {\n",
       "        vertical-align: top;\n",
       "    }\n",
       "\n",
       "    .dataframe thead th {\n",
       "        text-align: right;\n",
       "    }\n",
       "</style>\n",
       "<table border=\"1\" class=\"dataframe\">\n",
       "  <thead>\n",
       "    <tr style=\"text-align: right;\">\n",
       "      <th></th>\n",
       "      <th>책제목</th>\n",
       "      <th>저자</th>\n",
       "      <th>역자</th>\n",
       "      <th>출간일</th>\n",
       "      <th>쪽수</th>\n",
       "      <th>정가</th>\n",
       "      <th>판매가</th>\n",
       "      <th>마일리지</th>\n",
       "    </tr>\n",
       "  </thead>\n",
       "  <tbody>\n",
       "    <tr>\n",
       "      <th>0</th>\n",
       "      <td>하루 한 장 초등과학 365</td>\n",
       "      <td>치바 가즈요시</td>\n",
       "      <td>허영은 , 유우종 (감수)</td>\n",
       "      <td>2021-12-14</td>\n",
       "      <td>416 쪽</td>\n",
       "      <td>19,800원</td>\n",
       "      <td>17,820</td>\n",
       "      <td>990점 (5%)</td>\n",
       "    </tr>\n",
       "    <tr>\n",
       "      <th>1</th>\n",
       "      <td>다시, 배우다</td>\n",
       "      <td>폴 김</td>\n",
       "      <td>없음</td>\n",
       "      <td>2021-12-10</td>\n",
       "      <td>304 쪽</td>\n",
       "      <td>16,000원</td>\n",
       "      <td>14,400</td>\n",
       "      <td>800점 (5%)</td>\n",
       "    </tr>\n",
       "    <tr>\n",
       "      <th>2</th>\n",
       "      <td>당당한 디자인 결정을 위한 9가지 방법</td>\n",
       "      <td>톰 그리버</td>\n",
       "      <td>김민성 , 곽서희</td>\n",
       "      <td>2021-12-10</td>\n",
       "      <td>376 쪽</td>\n",
       "      <td>22,000원</td>\n",
       "      <td>19,800</td>\n",
       "      <td>1,100점 (5%)</td>\n",
       "    </tr>\n",
       "    <tr>\n",
       "      <th>3</th>\n",
       "      <td>365 부모 말하기 연습 일력(스프링북)</td>\n",
       "      <td>박재연 , 공인영</td>\n",
       "      <td>없음</td>\n",
       "      <td>2021-12-01</td>\n",
       "      <td>384 쪽</td>\n",
       "      <td>18,000원</td>\n",
       "      <td>16,200</td>\n",
       "      <td>900점 (5%)</td>\n",
       "    </tr>\n",
       "    <tr>\n",
       "      <th>4</th>\n",
       "      <td>공학도를 위한 수치해석(8판)</td>\n",
       "      <td>Steven C.Chapra , Raymond P. Canale</td>\n",
       "      <td>나양 , 이승배 , 임윤철</td>\n",
       "      <td>2021-11-30</td>\n",
       "      <td>600 쪽</td>\n",
       "      <td>36,000원</td>\n",
       "      <td>36,000</td>\n",
       "      <td>1,080점 (3%)</td>\n",
       "    </tr>\n",
       "  </tbody>\n",
       "</table>\n",
       "</div>"
      ],
      "text/plain": [
       "                      책제목                                    저자  \\\n",
       "0         하루 한 장 초등과학 365                              치바 가즈요시    \n",
       "1                 다시, 배우다                                  폴 김    \n",
       "2   당당한 디자인 결정을 위한 9가지 방법                                톰 그리버    \n",
       "3  365 부모 말하기 연습 일력(스프링북)                            박재연 , 공인영    \n",
       "4        공학도를 위한 수치해석(8판)  Steven C.Chapra , Raymond P. Canale    \n",
       "\n",
       "                역자         출간일     쪽수       정가     판매가         마일리지  \n",
       "0  허영은 , 유우종 (감수)   2021-12-14  416 쪽  19,800원  17,820    990점 (5%)  \n",
       "1               없음  2021-12-10  304 쪽  16,000원  14,400    800점 (5%)  \n",
       "2       김민성 , 곽서희   2021-12-10  376 쪽  22,000원  19,800  1,100점 (5%)  \n",
       "3               없음  2021-12-01  384 쪽  18,000원  16,200    900점 (5%)  \n",
       "4  나양 , 이승배 , 임윤철   2021-11-30  600 쪽  36,000원  36,000  1,080점 (3%)  "
      ]
     },
     "execution_count": 194,
     "metadata": {},
     "output_type": "execute_result"
    }
   ],
   "source": [
    "df = pd.DataFrame(lines, columns =['책제목', '저자', '역자', '출간일', '쪽수','정가','판매가', '마일리지'])\n",
    "df.head()"
   ]
  },
  {
   "cell_type": "code",
   "execution_count": 195,
   "metadata": {},
   "outputs": [
    {
     "data": {
      "text/html": [
       "<div>\n",
       "<style scoped>\n",
       "    .dataframe tbody tr th:only-of-type {\n",
       "        vertical-align: middle;\n",
       "    }\n",
       "\n",
       "    .dataframe tbody tr th {\n",
       "        vertical-align: top;\n",
       "    }\n",
       "\n",
       "    .dataframe thead th {\n",
       "        text-align: right;\n",
       "    }\n",
       "</style>\n",
       "<table border=\"1\" class=\"dataframe\">\n",
       "  <thead>\n",
       "    <tr style=\"text-align: right;\">\n",
       "      <th></th>\n",
       "      <th>책제목</th>\n",
       "      <th>저자</th>\n",
       "      <th>역자</th>\n",
       "      <th>출간일</th>\n",
       "      <th>쪽수</th>\n",
       "      <th>정가</th>\n",
       "      <th>판매가</th>\n",
       "      <th>마일리지</th>\n",
       "    </tr>\n",
       "  </thead>\n",
       "  <tbody>\n",
       "    <tr>\n",
       "      <th>15</th>\n",
       "      <td>나도 영문 손글씨 잘 쓰면 소원이 없겠네</td>\n",
       "      <td>윤정희(리제 캘리그라피)</td>\n",
       "      <td>없음</td>\n",
       "      <td>2021-11-05</td>\n",
       "      <td>240 쪽</td>\n",
       "      <td>16,800원</td>\n",
       "      <td>15,120</td>\n",
       "      <td>840점 (5%)</td>\n",
       "    </tr>\n",
       "    <tr>\n",
       "      <th>16</th>\n",
       "      <td>구글 BERT의 정석</td>\n",
       "      <td>수다르산 라비찬디란</td>\n",
       "      <td>전희원 , 정승환 , 김형준</td>\n",
       "      <td>2021-11-03</td>\n",
       "      <td>368 쪽</td>\n",
       "      <td>34,000원</td>\n",
       "      <td>30,600</td>\n",
       "      <td>1,700점 (5%)</td>\n",
       "    </tr>\n",
       "    <tr>\n",
       "      <th>17</th>\n",
       "      <td>1000개 숨은그림찾기 몬스터 : 찾아도 찾아도 끝판왕</td>\n",
       "      <td>김확실</td>\n",
       "      <td>없음</td>\n",
       "      <td>2021-11-02</td>\n",
       "      <td>96 쪽</td>\n",
       "      <td>8,000원</td>\n",
       "      <td>7,200</td>\n",
       "      <td>400점 (5%)</td>\n",
       "    </tr>\n",
       "    <tr>\n",
       "      <th>18</th>\n",
       "      <td>1000개 숨은그림찾기 보물찾기 : 찾아도 찾아도 끝판왕</td>\n",
       "      <td>전진희</td>\n",
       "      <td>없음</td>\n",
       "      <td>2021-11-02</td>\n",
       "      <td>96 쪽</td>\n",
       "      <td>8,000원</td>\n",
       "      <td>7,200</td>\n",
       "      <td>400점 (5%)</td>\n",
       "    </tr>\n",
       "    <tr>\n",
       "      <th>19</th>\n",
       "      <td>1000개 숨은그림찾기 탈것 : 찾아도 찾아도 끝판왕</td>\n",
       "      <td>이한이</td>\n",
       "      <td>없음</td>\n",
       "      <td>2021-11-02</td>\n",
       "      <td>96 쪽</td>\n",
       "      <td>8,000원</td>\n",
       "      <td>7,200</td>\n",
       "      <td>400점 (5%)</td>\n",
       "    </tr>\n",
       "  </tbody>\n",
       "</table>\n",
       "</div>"
      ],
      "text/plain": [
       "                                책제목              저자                역자  \\\n",
       "15           나도 영문 손글씨 잘 쓰면 소원이 없겠네  윤정희(리제 캘리그라피)                 없음   \n",
       "16                      구글 BERT의 정석     수다르산 라비찬디란   전희원 , 정승환 , 김형준    \n",
       "17   1000개 숨은그림찾기 몬스터 : 찾아도 찾아도 끝판왕            김확실                 없음   \n",
       "18  1000개 숨은그림찾기 보물찾기 : 찾아도 찾아도 끝판왕            전진희                 없음   \n",
       "19    1000개 숨은그림찾기 탈것 : 찾아도 찾아도 끝판왕            이한이                 없음   \n",
       "\n",
       "           출간일     쪽수       정가     판매가         마일리지  \n",
       "15  2021-11-05  240 쪽  16,800원  15,120    840점 (5%)  \n",
       "16  2021-11-03  368 쪽  34,000원  30,600  1,700점 (5%)  \n",
       "17  2021-11-02   96 쪽   8,000원   7,200    400점 (5%)  \n",
       "18  2021-11-02   96 쪽   8,000원   7,200    400점 (5%)  \n",
       "19  2021-11-02   96 쪽   8,000원   7,200    400점 (5%)  "
      ]
     },
     "execution_count": 195,
     "metadata": {},
     "output_type": "execute_result"
    }
   ],
   "source": [
    "df.tail()"
   ]
  },
  {
   "cell_type": "markdown",
   "metadata": {},
   "source": [
    "### 1에서 10페이지까지 출력하기"
   ]
  },
  {
   "cell_type": "code",
   "execution_count": 206,
   "metadata": {},
   "outputs": [],
   "source": [
    "lines2 = []\n",
    "for page in range(1,11):\n",
    "    'https://www.hanbit.co.kr/store/books/new_book_list.html?page='+str(page)\n",
    "    req = requests.get(url)\n",
    "    html = req.text\n",
    "    soup = BeautifulSoup(html, 'html.parser')\n",
    "    href = li.find('a')['href']\n",
    "    for li in lis:\n",
    "        href = li.find('a')['href']\n",
    "        name = li.select_one('.book_tit').string\n",
    "        artist = li.select_one('.book_writer').string\n",
    "\n",
    "        sub_url = site + href\n",
    "        sub_req = requests.get(sub_url)\n",
    "        sub_html = sub_req.text\n",
    "        sub_soup = BeautifulSoup(sub_html, 'html.parser')\n",
    "\n",
    "        if len(sub_soup.select_one('.info_list').find_all('li')) == 6:\n",
    "            translate = sub_soup.select_one('.info_list').find_all('li')[1].find('span').string\n",
    "        else:\n",
    "            translate = '없음'\n",
    "        day = sub_soup.select_one('.info_list').find_all('li')[-4].find('span').string\n",
    "        page = sub_soup.select_one('.info_list').find_all('li')[-3].find('span').string\n",
    "        price = sub_soup.select_one('.pbr').find('del').string\n",
    "        cost = sub_soup.select('.pbr')[1].find('strong').string\n",
    "        mile = sub_soup.select('.pbr')[-1].string\n",
    "\n",
    "        lines2.append([name, artist, translate, day, page, price, cost, mile])"
   ]
  },
  {
   "cell_type": "code",
   "execution_count": 257,
   "metadata": {},
   "outputs": [
    {
     "data": {
      "text/html": [
       "<div>\n",
       "<style scoped>\n",
       "    .dataframe tbody tr th:only-of-type {\n",
       "        vertical-align: middle;\n",
       "    }\n",
       "\n",
       "    .dataframe tbody tr th {\n",
       "        vertical-align: top;\n",
       "    }\n",
       "\n",
       "    .dataframe thead th {\n",
       "        text-align: right;\n",
       "    }\n",
       "</style>\n",
       "<table border=\"1\" class=\"dataframe\">\n",
       "  <thead>\n",
       "    <tr style=\"text-align: right;\">\n",
       "      <th></th>\n",
       "      <th>책제목</th>\n",
       "      <th>저자</th>\n",
       "      <th>역자</th>\n",
       "      <th>출간일</th>\n",
       "      <th>쪽수</th>\n",
       "      <th>정가</th>\n",
       "      <th>판매가</th>\n",
       "      <th>마일리지</th>\n",
       "    </tr>\n",
       "  </thead>\n",
       "  <tbody>\n",
       "    <tr>\n",
       "      <th>0</th>\n",
       "      <td>하루 한 장 초등과학 365</td>\n",
       "      <td>치바 가즈요시</td>\n",
       "      <td>허영은 , 유우종 (감수)</td>\n",
       "      <td>2021-12-14</td>\n",
       "      <td>416 쪽</td>\n",
       "      <td>19,800원</td>\n",
       "      <td>17,820</td>\n",
       "      <td>990점 (5%)</td>\n",
       "    </tr>\n",
       "    <tr>\n",
       "      <th>1</th>\n",
       "      <td>다시, 배우다</td>\n",
       "      <td>폴 김</td>\n",
       "      <td>없음</td>\n",
       "      <td>2021-12-10</td>\n",
       "      <td>304 쪽</td>\n",
       "      <td>16,000원</td>\n",
       "      <td>14,400</td>\n",
       "      <td>800점 (5%)</td>\n",
       "    </tr>\n",
       "    <tr>\n",
       "      <th>2</th>\n",
       "      <td>당당한 디자인 결정을 위한 9가지 방법</td>\n",
       "      <td>톰 그리버</td>\n",
       "      <td>김민성 , 곽서희</td>\n",
       "      <td>2021-12-10</td>\n",
       "      <td>376 쪽</td>\n",
       "      <td>22,000원</td>\n",
       "      <td>19,800</td>\n",
       "      <td>1,100점 (5%)</td>\n",
       "    </tr>\n",
       "    <tr>\n",
       "      <th>3</th>\n",
       "      <td>365 부모 말하기 연습 일력(스프링북)</td>\n",
       "      <td>박재연 , 공인영</td>\n",
       "      <td>없음</td>\n",
       "      <td>2021-12-01</td>\n",
       "      <td>384 쪽</td>\n",
       "      <td>18,000원</td>\n",
       "      <td>16,200</td>\n",
       "      <td>900점 (5%)</td>\n",
       "    </tr>\n",
       "    <tr>\n",
       "      <th>4</th>\n",
       "      <td>공학도를 위한 수치해석(8판)</td>\n",
       "      <td>Steven C.Chapra , Raymond P. Canale</td>\n",
       "      <td>나양 , 이승배 , 임윤철</td>\n",
       "      <td>2021-11-30</td>\n",
       "      <td>600 쪽</td>\n",
       "      <td>36,000원</td>\n",
       "      <td>36,000</td>\n",
       "      <td>1,080점 (3%)</td>\n",
       "    </tr>\n",
       "  </tbody>\n",
       "</table>\n",
       "</div>"
      ],
      "text/plain": [
       "                      책제목                                    저자  \\\n",
       "0         하루 한 장 초등과학 365                              치바 가즈요시    \n",
       "1                 다시, 배우다                                  폴 김    \n",
       "2   당당한 디자인 결정을 위한 9가지 방법                                톰 그리버    \n",
       "3  365 부모 말하기 연습 일력(스프링북)                            박재연 , 공인영    \n",
       "4        공학도를 위한 수치해석(8판)  Steven C.Chapra , Raymond P. Canale    \n",
       "\n",
       "                역자         출간일     쪽수       정가     판매가         마일리지  \n",
       "0  허영은 , 유우종 (감수)   2021-12-14  416 쪽  19,800원  17,820    990점 (5%)  \n",
       "1               없음  2021-12-10  304 쪽  16,000원  14,400    800점 (5%)  \n",
       "2       김민성 , 곽서희   2021-12-10  376 쪽  22,000원  19,800  1,100점 (5%)  \n",
       "3               없음  2021-12-01  384 쪽  18,000원  16,200    900점 (5%)  \n",
       "4  나양 , 이승배 , 임윤철   2021-11-30  600 쪽  36,000원  36,000  1,080점 (3%)  "
      ]
     },
     "execution_count": 257,
     "metadata": {},
     "output_type": "execute_result"
    }
   ],
   "source": [
    "df2 = pd.DataFrame(lines2, columns =['책제목', '저자', '역자', '출간일', '쪽수','정가','판매가', '마일리지'])\n",
    "df2.head()"
   ]
  },
  {
   "cell_type": "code",
   "execution_count": 258,
   "metadata": {},
   "outputs": [
    {
     "data": {
      "text/html": [
       "<div>\n",
       "<style scoped>\n",
       "    .dataframe tbody tr th:only-of-type {\n",
       "        vertical-align: middle;\n",
       "    }\n",
       "\n",
       "    .dataframe tbody tr th {\n",
       "        vertical-align: top;\n",
       "    }\n",
       "\n",
       "    .dataframe thead th {\n",
       "        text-align: right;\n",
       "    }\n",
       "</style>\n",
       "<table border=\"1\" class=\"dataframe\">\n",
       "  <thead>\n",
       "    <tr style=\"text-align: right;\">\n",
       "      <th></th>\n",
       "      <th>책제목</th>\n",
       "      <th>저자</th>\n",
       "      <th>역자</th>\n",
       "      <th>출간일</th>\n",
       "      <th>쪽수</th>\n",
       "      <th>정가</th>\n",
       "      <th>판매가</th>\n",
       "      <th>마일리지</th>\n",
       "    </tr>\n",
       "  </thead>\n",
       "  <tbody>\n",
       "    <tr>\n",
       "      <th>195</th>\n",
       "      <td>나도 영문 손글씨 잘 쓰면 소원이 없겠네</td>\n",
       "      <td>윤정희(리제 캘리그라피)</td>\n",
       "      <td>없음</td>\n",
       "      <td>2021-11-05</td>\n",
       "      <td>240 쪽</td>\n",
       "      <td>16,800원</td>\n",
       "      <td>15,120</td>\n",
       "      <td>840점 (5%)</td>\n",
       "    </tr>\n",
       "    <tr>\n",
       "      <th>196</th>\n",
       "      <td>구글 BERT의 정석</td>\n",
       "      <td>수다르산 라비찬디란</td>\n",
       "      <td>전희원 , 정승환 , 김형준</td>\n",
       "      <td>2021-11-03</td>\n",
       "      <td>368 쪽</td>\n",
       "      <td>34,000원</td>\n",
       "      <td>30,600</td>\n",
       "      <td>1,700점 (5%)</td>\n",
       "    </tr>\n",
       "    <tr>\n",
       "      <th>197</th>\n",
       "      <td>1000개 숨은그림찾기 몬스터 : 찾아도 찾아도 끝판왕</td>\n",
       "      <td>김확실</td>\n",
       "      <td>없음</td>\n",
       "      <td>2021-11-02</td>\n",
       "      <td>96 쪽</td>\n",
       "      <td>8,000원</td>\n",
       "      <td>7,200</td>\n",
       "      <td>400점 (5%)</td>\n",
       "    </tr>\n",
       "    <tr>\n",
       "      <th>198</th>\n",
       "      <td>1000개 숨은그림찾기 보물찾기 : 찾아도 찾아도 끝판왕</td>\n",
       "      <td>전진희</td>\n",
       "      <td>없음</td>\n",
       "      <td>2021-11-02</td>\n",
       "      <td>96 쪽</td>\n",
       "      <td>8,000원</td>\n",
       "      <td>7,200</td>\n",
       "      <td>400점 (5%)</td>\n",
       "    </tr>\n",
       "    <tr>\n",
       "      <th>199</th>\n",
       "      <td>1000개 숨은그림찾기 탈것 : 찾아도 찾아도 끝판왕</td>\n",
       "      <td>이한이</td>\n",
       "      <td>없음</td>\n",
       "      <td>2021-11-02</td>\n",
       "      <td>96 쪽</td>\n",
       "      <td>8,000원</td>\n",
       "      <td>7,200</td>\n",
       "      <td>400점 (5%)</td>\n",
       "    </tr>\n",
       "  </tbody>\n",
       "</table>\n",
       "</div>"
      ],
      "text/plain": [
       "                                 책제목              저자                역자  \\\n",
       "195           나도 영문 손글씨 잘 쓰면 소원이 없겠네  윤정희(리제 캘리그라피)                 없음   \n",
       "196                      구글 BERT의 정석     수다르산 라비찬디란   전희원 , 정승환 , 김형준    \n",
       "197   1000개 숨은그림찾기 몬스터 : 찾아도 찾아도 끝판왕            김확실                 없음   \n",
       "198  1000개 숨은그림찾기 보물찾기 : 찾아도 찾아도 끝판왕            전진희                 없음   \n",
       "199    1000개 숨은그림찾기 탈것 : 찾아도 찾아도 끝판왕            이한이                 없음   \n",
       "\n",
       "            출간일     쪽수       정가     판매가         마일리지  \n",
       "195  2021-11-05  240 쪽  16,800원  15,120    840점 (5%)  \n",
       "196  2021-11-03  368 쪽  34,000원  30,600  1,700점 (5%)  \n",
       "197  2021-11-02   96 쪽   8,000원   7,200    400점 (5%)  \n",
       "198  2021-11-02   96 쪽   8,000원   7,200    400점 (5%)  \n",
       "199  2021-11-02   96 쪽   8,000원   7,200    400점 (5%)  "
      ]
     },
     "execution_count": 258,
     "metadata": {},
     "output_type": "execute_result"
    }
   ],
   "source": [
    "df2.tail()"
   ]
  },
  {
   "cell_type": "markdown",
   "metadata": {},
   "source": [
    "### 쪽수와 정가, 판매가, 마일리지 정수로 바꾸기\n",
    "- 오래걸리는 관계로 1페이지만"
   ]
  },
  {
   "cell_type": "code",
   "execution_count": 249,
   "metadata": {},
   "outputs": [],
   "source": [
    "def convert_units(s):\n",
    "    return int(s.replace('쪽', '').replace('원','').replace(',',''))"
   ]
  },
  {
   "cell_type": "code",
   "execution_count": 218,
   "metadata": {},
   "outputs": [
    {
     "data": {
      "text/plain": [
       "96"
      ]
     },
     "execution_count": 218,
     "metadata": {},
     "output_type": "execute_result"
    }
   ],
   "source": [
    "convert_units(page)"
   ]
  },
  {
   "cell_type": "code",
   "execution_count": 252,
   "metadata": {},
   "outputs": [
    {
     "data": {
      "text/plain": [
       "1100"
      ]
     },
     "execution_count": 252,
     "metadata": {},
     "output_type": "execute_result"
    }
   ],
   "source": [
    "mile = sub_soup.select('.pbr')[-1].string\n",
    "int(mile.split('점')[0].replace(',',''))"
   ]
  },
  {
   "cell_type": "code",
   "execution_count": 253,
   "metadata": {},
   "outputs": [],
   "source": [
    "lines3 = []\n",
    "for li in lis:\n",
    "    href = li.find('a')['href']\n",
    "    name = li.select_one('.book_tit').string\n",
    "    artist = li.select_one('.book_writer').string\n",
    "\n",
    "    sub_url = site + href\n",
    "    sub_req = requests.get(sub_url)\n",
    "    sub_html = sub_req.text\n",
    "    sub_soup = BeautifulSoup(sub_html, 'html.parser')\n",
    "\n",
    "    if len(sub_soup.select_one('.info_list').find_all('li')) == 6:\n",
    "        translate = sub_soup.select_one('.info_list').find_all('li')[1].find('span').string\n",
    "    else:\n",
    "        translate = '없음'\n",
    "    day = sub_soup.select_one('.info_list').find_all('li')[-4].find('span').string\n",
    "    page = sub_soup.select_one('.info_list').find_all('li')[-3].find('span').string\n",
    "    price = sub_soup.select_one('.pbr').find('del').string\n",
    "    cost = sub_soup.select('.pbr')[1].find('strong').string\n",
    "    mile = sub_soup.select('.pbr')[-1].string\n",
    "    mile = int(mile.split('점')[0].replace(',',''))\n",
    "\n",
    "    lines3.append([name, artist, translate, day,convert_units(page), convert_units(price), convert_units(cost), mile])"
   ]
  },
  {
   "cell_type": "code",
   "execution_count": 255,
   "metadata": {},
   "outputs": [
    {
     "data": {
      "text/html": [
       "<div>\n",
       "<style scoped>\n",
       "    .dataframe tbody tr th:only-of-type {\n",
       "        vertical-align: middle;\n",
       "    }\n",
       "\n",
       "    .dataframe tbody tr th {\n",
       "        vertical-align: top;\n",
       "    }\n",
       "\n",
       "    .dataframe thead th {\n",
       "        text-align: right;\n",
       "    }\n",
       "</style>\n",
       "<table border=\"1\" class=\"dataframe\">\n",
       "  <thead>\n",
       "    <tr style=\"text-align: right;\">\n",
       "      <th></th>\n",
       "      <th>책제목</th>\n",
       "      <th>저자</th>\n",
       "      <th>역자</th>\n",
       "      <th>출간일</th>\n",
       "      <th>쪽수</th>\n",
       "      <th>정가</th>\n",
       "      <th>판매가</th>\n",
       "      <th>마일리지</th>\n",
       "    </tr>\n",
       "  </thead>\n",
       "  <tbody>\n",
       "    <tr>\n",
       "      <th>0</th>\n",
       "      <td>하루 한 장 초등과학 365</td>\n",
       "      <td>치바 가즈요시</td>\n",
       "      <td>허영은 , 유우종 (감수)</td>\n",
       "      <td>2021-12-14</td>\n",
       "      <td>416</td>\n",
       "      <td>19800</td>\n",
       "      <td>17820</td>\n",
       "      <td>990</td>\n",
       "    </tr>\n",
       "    <tr>\n",
       "      <th>1</th>\n",
       "      <td>다시, 배우다</td>\n",
       "      <td>폴 김</td>\n",
       "      <td>없음</td>\n",
       "      <td>2021-12-10</td>\n",
       "      <td>304</td>\n",
       "      <td>16000</td>\n",
       "      <td>14400</td>\n",
       "      <td>800</td>\n",
       "    </tr>\n",
       "    <tr>\n",
       "      <th>2</th>\n",
       "      <td>당당한 디자인 결정을 위한 9가지 방법</td>\n",
       "      <td>톰 그리버</td>\n",
       "      <td>김민성 , 곽서희</td>\n",
       "      <td>2021-12-10</td>\n",
       "      <td>376</td>\n",
       "      <td>22000</td>\n",
       "      <td>19800</td>\n",
       "      <td>1100</td>\n",
       "    </tr>\n",
       "    <tr>\n",
       "      <th>3</th>\n",
       "      <td>365 부모 말하기 연습 일력(스프링북)</td>\n",
       "      <td>박재연 , 공인영</td>\n",
       "      <td>없음</td>\n",
       "      <td>2021-12-01</td>\n",
       "      <td>384</td>\n",
       "      <td>18000</td>\n",
       "      <td>16200</td>\n",
       "      <td>900</td>\n",
       "    </tr>\n",
       "    <tr>\n",
       "      <th>4</th>\n",
       "      <td>공학도를 위한 수치해석(8판)</td>\n",
       "      <td>Steven C.Chapra , Raymond P. Canale</td>\n",
       "      <td>나양 , 이승배 , 임윤철</td>\n",
       "      <td>2021-11-30</td>\n",
       "      <td>600</td>\n",
       "      <td>36000</td>\n",
       "      <td>36000</td>\n",
       "      <td>1080</td>\n",
       "    </tr>\n",
       "  </tbody>\n",
       "</table>\n",
       "</div>"
      ],
      "text/plain": [
       "                      책제목                                    저자  \\\n",
       "0         하루 한 장 초등과학 365                              치바 가즈요시    \n",
       "1                 다시, 배우다                                  폴 김    \n",
       "2   당당한 디자인 결정을 위한 9가지 방법                                톰 그리버    \n",
       "3  365 부모 말하기 연습 일력(스프링북)                            박재연 , 공인영    \n",
       "4        공학도를 위한 수치해석(8판)  Steven C.Chapra , Raymond P. Canale    \n",
       "\n",
       "                역자         출간일   쪽수     정가    판매가  마일리지  \n",
       "0  허영은 , 유우종 (감수)   2021-12-14  416  19800  17820   990  \n",
       "1               없음  2021-12-10  304  16000  14400   800  \n",
       "2       김민성 , 곽서희   2021-12-10  376  22000  19800  1100  \n",
       "3               없음  2021-12-01  384  18000  16200   900  \n",
       "4  나양 , 이승배 , 임윤철   2021-11-30  600  36000  36000  1080  "
      ]
     },
     "execution_count": 255,
     "metadata": {},
     "output_type": "execute_result"
    }
   ],
   "source": [
    "df3 = pd.DataFrame(lines3, columns =['책제목', '저자', '역자', '출간일', '쪽수','정가','판매가', '마일리지'])\n",
    "df3.head()"
   ]
  },
  {
   "cell_type": "code",
   "execution_count": 256,
   "metadata": {},
   "outputs": [
    {
     "data": {
      "text/html": [
       "<div>\n",
       "<style scoped>\n",
       "    .dataframe tbody tr th:only-of-type {\n",
       "        vertical-align: middle;\n",
       "    }\n",
       "\n",
       "    .dataframe tbody tr th {\n",
       "        vertical-align: top;\n",
       "    }\n",
       "\n",
       "    .dataframe thead th {\n",
       "        text-align: right;\n",
       "    }\n",
       "</style>\n",
       "<table border=\"1\" class=\"dataframe\">\n",
       "  <thead>\n",
       "    <tr style=\"text-align: right;\">\n",
       "      <th></th>\n",
       "      <th>책제목</th>\n",
       "      <th>저자</th>\n",
       "      <th>역자</th>\n",
       "      <th>출간일</th>\n",
       "      <th>쪽수</th>\n",
       "      <th>정가</th>\n",
       "      <th>판매가</th>\n",
       "      <th>마일리지</th>\n",
       "    </tr>\n",
       "  </thead>\n",
       "  <tbody>\n",
       "    <tr>\n",
       "      <th>15</th>\n",
       "      <td>나도 영문 손글씨 잘 쓰면 소원이 없겠네</td>\n",
       "      <td>윤정희(리제 캘리그라피)</td>\n",
       "      <td>없음</td>\n",
       "      <td>2021-11-05</td>\n",
       "      <td>240</td>\n",
       "      <td>16800</td>\n",
       "      <td>15120</td>\n",
       "      <td>840</td>\n",
       "    </tr>\n",
       "    <tr>\n",
       "      <th>16</th>\n",
       "      <td>구글 BERT의 정석</td>\n",
       "      <td>수다르산 라비찬디란</td>\n",
       "      <td>전희원 , 정승환 , 김형준</td>\n",
       "      <td>2021-11-03</td>\n",
       "      <td>368</td>\n",
       "      <td>34000</td>\n",
       "      <td>30600</td>\n",
       "      <td>1700</td>\n",
       "    </tr>\n",
       "    <tr>\n",
       "      <th>17</th>\n",
       "      <td>1000개 숨은그림찾기 몬스터 : 찾아도 찾아도 끝판왕</td>\n",
       "      <td>김확실</td>\n",
       "      <td>없음</td>\n",
       "      <td>2021-11-02</td>\n",
       "      <td>96</td>\n",
       "      <td>8000</td>\n",
       "      <td>7200</td>\n",
       "      <td>400</td>\n",
       "    </tr>\n",
       "    <tr>\n",
       "      <th>18</th>\n",
       "      <td>1000개 숨은그림찾기 보물찾기 : 찾아도 찾아도 끝판왕</td>\n",
       "      <td>전진희</td>\n",
       "      <td>없음</td>\n",
       "      <td>2021-11-02</td>\n",
       "      <td>96</td>\n",
       "      <td>8000</td>\n",
       "      <td>7200</td>\n",
       "      <td>400</td>\n",
       "    </tr>\n",
       "    <tr>\n",
       "      <th>19</th>\n",
       "      <td>1000개 숨은그림찾기 탈것 : 찾아도 찾아도 끝판왕</td>\n",
       "      <td>이한이</td>\n",
       "      <td>없음</td>\n",
       "      <td>2021-11-02</td>\n",
       "      <td>96</td>\n",
       "      <td>8000</td>\n",
       "      <td>7200</td>\n",
       "      <td>400</td>\n",
       "    </tr>\n",
       "  </tbody>\n",
       "</table>\n",
       "</div>"
      ],
      "text/plain": [
       "                                책제목              저자                역자  \\\n",
       "15           나도 영문 손글씨 잘 쓰면 소원이 없겠네  윤정희(리제 캘리그라피)                 없음   \n",
       "16                      구글 BERT의 정석     수다르산 라비찬디란   전희원 , 정승환 , 김형준    \n",
       "17   1000개 숨은그림찾기 몬스터 : 찾아도 찾아도 끝판왕            김확실                 없음   \n",
       "18  1000개 숨은그림찾기 보물찾기 : 찾아도 찾아도 끝판왕            전진희                 없음   \n",
       "19    1000개 숨은그림찾기 탈것 : 찾아도 찾아도 끝판왕            이한이                 없음   \n",
       "\n",
       "           출간일   쪽수     정가    판매가  마일리지  \n",
       "15  2021-11-05  240  16800  15120   840  \n",
       "16  2021-11-03  368  34000  30600  1700  \n",
       "17  2021-11-02   96   8000   7200   400  \n",
       "18  2021-11-02   96   8000   7200   400  \n",
       "19  2021-11-02   96   8000   7200   400  "
      ]
     },
     "execution_count": 256,
     "metadata": {},
     "output_type": "execute_result"
    }
   ],
   "source": [
    "df3.tail()"
   ]
  },
  {
   "cell_type": "code",
   "execution_count": 260,
   "metadata": {},
   "outputs": [],
   "source": [
    "# 저장하는 법 = df2.to_csv('한빛출판사.csv', index=False) "
   ]
  },
  {
   "cell_type": "code",
   "execution_count": null,
   "metadata": {},
   "outputs": [],
   "source": []
  }
 ],
 "metadata": {
  "interpreter": {
   "hash": "9459de32d5ca2a57cd93a1169c99c6090e3e7c98f7fac5dc8fa5b4017ec3f43e"
  },
  "kernelspec": {
   "display_name": "Python 3.8.8 64-bit ('base': conda)",
   "language": "python",
   "name": "python3"
  },
  "language_info": {
   "codemirror_mode": {
    "name": "ipython",
    "version": 3
   },
   "file_extension": ".py",
   "mimetype": "text/x-python",
   "name": "python",
   "nbconvert_exporter": "python",
   "pygments_lexer": "ipython3",
   "version": "3.8.8"
  },
  "orig_nbformat": 4
 },
 "nbformat": 4,
 "nbformat_minor": 2
}
