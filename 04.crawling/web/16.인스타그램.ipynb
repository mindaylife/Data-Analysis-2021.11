{
 "cells": [
  {
   "cell_type": "markdown",
   "metadata": {},
   "source": [
    "# 인스타그램 - 제주맛집"
   ]
  },
  {
   "cell_type": "code",
   "execution_count": 1,
   "metadata": {},
   "outputs": [],
   "source": [
    "from selenium import webdriver\n",
    "from bs4 import BeautifulSoup\n",
    "import time\n",
    "import pandas as pd\n",
    "from urllib.parse import quote"
   ]
  },
  {
   "cell_type": "code",
   "execution_count": 12,
   "metadata": {},
   "outputs": [],
   "source": [
    "import unicodedata\n",
    "import re\n",
    "from tqdm.notebook import tqdm"
   ]
  },
  {
   "cell_type": "markdown",
   "metadata": {},
   "source": [
    "### 1.로그인하기"
   ]
  },
  {
   "cell_type": "code",
   "execution_count": 35,
   "metadata": {},
   "outputs": [],
   "source": [
    "insta_url = 'https://www.instagram.com'\n",
    "driver = webdriver.Chrome('chromedriver')\n",
    "driver.get(insta_url)\n",
    "time.sleep(1)"
   ]
  },
  {
   "cell_type": "code",
   "execution_count": 39,
   "metadata": {},
   "outputs": [],
   "source": [
    "with open('password.txt') as f:\n",
    "    password = f.read()"
   ]
  },
  {
   "cell_type": "code",
   "execution_count": 37,
   "metadata": {},
   "outputs": [],
   "source": [
    "email = 'min_day.mul'\n",
    "input_email = driver.find_element_by_css_selector('._2hvTZ.pexuQ.zyHYP')\n",
    "input_email.clear()\n",
    "input_email.send_keys(email)"
   ]
  },
  {
   "cell_type": "code",
   "execution_count": 40,
   "metadata": {},
   "outputs": [],
   "source": [
    "input_pwd = driver.find_element_by_name('password')\n",
    "input_pwd.clear()\n",
    "input_pwd.send_keys(password)\n",
    "input_pwd.submit()\n",
    "time.sleep(1)"
   ]
  },
  {
   "cell_type": "code",
   "execution_count": 26,
   "metadata": {},
   "outputs": [],
   "source": [
    "# 로그인 정보 저장 - 나중에 하기\n",
    "try:\n",
    "    driver.find_element_by_css_selector('.sqdOP.yWX7d.y3zKF').click()\n",
    "    time.sleep(1)\n",
    "except:\n",
    "    pass"
   ]
  },
  {
   "cell_type": "code",
   "execution_count": 41,
   "metadata": {},
   "outputs": [],
   "source": [
    "# 알림 설정 - 나중에 하기\n",
    "try:\n",
    "    driver.find_element_by_css_selector('.aOOlW.HoLwm').click()\n",
    "    time.sleep(1)\n",
    "except:\n",
    "    pass"
   ]
  },
  {
   "cell_type": "markdown",
   "metadata": {},
   "source": [
    "### 2.제주맛집으로 검색하기"
   ]
  },
  {
   "cell_type": "code",
   "execution_count": 48,
   "metadata": {},
   "outputs": [
    {
     "data": {
      "text/plain": [
       "'https://www.instagram.com/explore/tags/%EC%A0%9C%EC%A3%BC%EB%A7%9B%EC%A7%91'"
      ]
     },
     "execution_count": 48,
     "metadata": {},
     "output_type": "execute_result"
    }
   ],
   "source": [
    "keyword = '제주맛집'\n",
    "search_url = 'https://www.instagram.com/explore/tags/'\n",
    "url = f'{search_url}{quote(keyword)}'\n",
    "url"
   ]
  },
  {
   "cell_type": "code",
   "execution_count": 49,
   "metadata": {},
   "outputs": [],
   "source": [
    "driver.get(url)\n",
    "time.sleep(5)"
   ]
  },
  {
   "cell_type": "markdown",
   "metadata": {},
   "source": [
    "### 첫번째 게시글"
   ]
  },
  {
   "cell_type": "code",
   "execution_count": 51,
   "metadata": {},
   "outputs": [],
   "source": [
    "driver.find_element_by_css_selector('div._9AhH0').click()\n",
    "time.sleep(1)"
   ]
  },
  {
   "cell_type": "code",
   "execution_count": 52,
   "metadata": {},
   "outputs": [],
   "source": [
    "html = driver.page_source\n",
    "soup = BeautifulSoup(html, 'html.parser')"
   ]
  },
  {
   "cell_type": "code",
   "execution_count": 53,
   "metadata": {},
   "outputs": [
    {
     "data": {
      "text/plain": [
       "'광고제주도에서 즐기는 랍스터만찬 랍스터빈 !!🔸주소 : 제주시 애월읍 애월해안로 752🔸영업 : 오전11시~오후10시🔸전화: 064-743-1979🔸연중무휴 @lobstervin#애월맛집 #애월카페 #애월읍맛집 #제주애월맛집 #제주도맛집 #제주맛집#제주카페 #외도맛집 #하귀맛집#한림맛집 #한림카페 #애월해안도로맛집#애월가볼만한곳 #제주공항맛집 #제주데이트 #제주공항근처맛집 #한담맛집 #제주해안도로#제주맛집추천 #제주도맛집추천 #제주도민맛집'"
      ]
     },
     "execution_count": 53,
     "metadata": {},
     "output_type": "execute_result"
    }
   ],
   "source": [
    "try:\n",
    "    content = soup.select_one('div.C4VMK > span').text\n",
    "    content = unicodedata.normalize('NFC', content)\n",
    "except:\n",
    "    content = ' '\n",
    "content"
   ]
  },
  {
   "cell_type": "code",
   "execution_count": 54,
   "metadata": {},
   "outputs": [
    {
     "data": {
      "text/plain": [
       "['#애월맛집',\n",
       " '#애월카페',\n",
       " '#애월읍맛집',\n",
       " '#제주애월맛집',\n",
       " '#제주도맛집',\n",
       " '#제주맛집',\n",
       " '#제주카페',\n",
       " '#외도맛집',\n",
       " '#하귀맛집',\n",
       " '#한림맛집',\n",
       " '#한림카페',\n",
       " '#애월해안도로맛집',\n",
       " '#애월가볼만한곳',\n",
       " '#제주공항맛집',\n",
       " '#제주데이트',\n",
       " '#제주공항근처맛집',\n",
       " '#한담맛집',\n",
       " '#제주해안도로',\n",
       " '#제주맛집추천',\n",
       " '#제주도맛집추천',\n",
       " '#제주도민맛집']"
      ]
     },
     "execution_count": 54,
     "metadata": {},
     "output_type": "execute_result"
    }
   ],
   "source": [
    "# 2) 본문 내용에서 해쉬태그 가져오기, '#[^\\s#,\\\\]+'\n",
    "tags = re.findall(r'#[^\\s#,\\\\]+', content)\n",
    "tags"
   ]
  },
  {
   "cell_type": "code",
   "execution_count": 55,
   "metadata": {},
   "outputs": [
    {
     "data": {
      "text/plain": [
       "'2021-12-06'"
      ]
     },
     "execution_count": 55,
     "metadata": {},
     "output_type": "execute_result"
    }
   ],
   "source": [
    "# 3) 작성일자 정보 가져오기\n",
    "date = soup.select_one('time.FH9sR.Nzb55')['datetime'][:10]\n",
    "date"
   ]
  },
  {
   "cell_type": "code",
   "execution_count": 56,
   "metadata": {},
   "outputs": [
    {
     "data": {
      "text/plain": [
       "0"
      ]
     },
     "execution_count": 56,
     "metadata": {},
     "output_type": "execute_result"
    }
   ],
   "source": [
    "# 4) 좋아요 수 가져오기: 좋아요 1,296개\n",
    "try:\n",
    "    like = soup.select_one('div.Nm9Fw').text[4:-1]\n",
    "except:\n",
    "    like = 0\n",
    "like"
   ]
  },
  {
   "cell_type": "code",
   "execution_count": 57,
   "metadata": {},
   "outputs": [
    {
     "data": {
      "text/plain": [
       "''"
      ]
     },
     "execution_count": 57,
     "metadata": {},
     "output_type": "execute_result"
    }
   ],
   "source": [
    "# 5) 위치정보 가져오기\n",
    "try:\n",
    "    place = soup.select('div.M30cS')[0].text\n",
    "    place = unicodedata.normalize('NFC', place)\n",
    "except:\n",
    "    place = ''\n",
    "place"
   ]
  },
  {
   "cell_type": "markdown",
   "metadata": {},
   "source": [
    "### 4. 다음게시글로 이동"
   ]
  },
  {
   "cell_type": "code",
   "execution_count": 86,
   "metadata": {},
   "outputs": [
    {
     "data": {
      "text/plain": [
       "['광고제주도에서 즐기는 랍스터만찬 랍스터빈 !!🔸주소 : 제주시 애월읍 애월해안로 752🔸영업 : 오전11시~오후10시🔸전화: 064-743-1979🔸연중무휴 @lobstervin#애월맛집 #애월카페 #애월읍맛집 #제주애월맛집 #제주도맛집 #제주맛집#제주카페 #외도맛집 #하귀맛집#한림맛집 #한림카페 #애월해안도로맛집#애월가볼만한곳 #제주공항맛집 #제주데이트 #제주공항근처맛집 #한담맛집 #제주해안도로#제주맛집추천 #제주도맛집추천 #제주도민맛집',\n",
       " '2021-12-06',\n",
       " 0,\n",
       " '',\n",
       " ['#애월맛집',\n",
       "  '#애월카페',\n",
       "  '#애월읍맛집',\n",
       "  '#제주애월맛집',\n",
       "  '#제주도맛집',\n",
       "  '#제주맛집',\n",
       "  '#제주카페',\n",
       "  '#외도맛집',\n",
       "  '#하귀맛집',\n",
       "  '#한림맛집',\n",
       "  '#한림카페',\n",
       "  '#애월해안도로맛집',\n",
       "  '#애월가볼만한곳',\n",
       "  '#제주공항맛집',\n",
       "  '#제주데이트',\n",
       "  '#제주공항근처맛집',\n",
       "  '#한담맛집',\n",
       "  '#제주해안도로',\n",
       "  '#제주맛집추천',\n",
       "  '#제주도맛집추천',\n",
       "  '#제주도민맛집']]"
      ]
     },
     "execution_count": 86,
     "metadata": {},
     "output_type": "execute_result"
    }
   ],
   "source": [
    "row = [content, date, like, place, tags]\n",
    "row"
   ]
  },
  {
   "cell_type": "code",
   "execution_count": 81,
   "metadata": {},
   "outputs": [],
   "source": [
    "driver.find_element_by_xpath('/html/body/div[6]/div[1]/div/div/div/button').click()\n",
    "time.sleep(2)"
   ]
  },
  {
   "cell_type": "code",
   "execution_count": 82,
   "metadata": {},
   "outputs": [],
   "source": [
    "driver.find_element_by_xpath('/html/body/div[6]/div[1]/div/div/div[2]/button').click()\n",
    "time.sleep(2)"
   ]
  },
  {
   "cell_type": "code",
   "execution_count": 83,
   "metadata": {},
   "outputs": [],
   "source": [
    "driver.find_element_by_xpath('/html/body/div[6]/div[3]/button').click()"
   ]
  },
  {
   "cell_type": "markdown",
   "metadata": {},
   "source": [
    "### 5.반복문으로 데이터 만들기"
   ]
  },
  {
   "cell_type": "code",
   "execution_count": 98,
   "metadata": {},
   "outputs": [],
   "source": [
    "def get_content(driver):\n",
    "    html = driver.page_source\n",
    "    soup = BeautifulSoup(html, 'html.parser')\n",
    "    try:\n",
    "        content = soup.select_one('div.C4VMK > span').text\n",
    "        content = unicodedata.normalize('NFC', content)\n",
    "    except:\n",
    "        content = ' '\n",
    "    tags = re.findall(r'#[^\\s#,\\\\]+', content)\n",
    "    date = soup.select_one('time.FH9sR.Nzb55')['datetime'][:10]\n",
    "\n",
    "    try:\n",
    "        like = soup.select_one('div.Nm9Fw').text[4:-1]\n",
    "    except:\n",
    "        like = 0\n",
    "    try:\n",
    "        place = soup.select('div.M30cS')[0].text\n",
    "        place = unicodedata.normalize('NFC', place)\n",
    "    except:\n",
    "        place = ''\n",
    "\n",
    "    return [content, date, like, place, tags]\n"
   ]
  },
  {
   "cell_type": "code",
   "execution_count": 102,
   "metadata": {},
   "outputs": [],
   "source": [
    "driver.find_element_by_css_selector('div._9AhH0').click()\n",
    "time.sleep(1)"
   ]
  },
  {
   "cell_type": "code",
   "execution_count": 103,
   "metadata": {},
   "outputs": [
    {
     "data": {
      "application/vnd.jupyter.widget-view+json": {
       "model_id": "e2965bb575064fe29ee82cc913be797d",
       "version_major": 2,
       "version_minor": 0
      },
      "text/plain": [
       "  0%|          | 0/300 [00:00<?, ?it/s]"
      ]
     },
     "metadata": {},
     "output_type": "display_data"
    }
   ],
   "source": [
    "results = []\n",
    "for _ in tqdm(range(300)):\n",
    "    try:\n",
    "        row = get_content(driver)\n",
    "        results.append(row)\n",
    "        driver.find_element_by_xpath('/html/body/div[6]/div[1]/div/div/div[2]/button').click()\n",
    "        time.sleep(3)\n",
    "    except:\n",
    "        time.sleep(3)\n",
    "        driver.find_element_by_xpath('/html/body/div[6]/div[1]/div/div/div/button').click()\n",
    "        time.sleep(3)"
   ]
  },
  {
   "cell_type": "code",
   "execution_count": 104,
   "metadata": {},
   "outputs": [],
   "source": [
    "driver.close()"
   ]
  },
  {
   "cell_type": "code",
   "execution_count": 105,
   "metadata": {},
   "outputs": [
    {
     "data": {
      "text/html": [
       "<div>\n",
       "<style scoped>\n",
       "    .dataframe tbody tr th:only-of-type {\n",
       "        vertical-align: middle;\n",
       "    }\n",
       "\n",
       "    .dataframe tbody tr th {\n",
       "        vertical-align: top;\n",
       "    }\n",
       "\n",
       "    .dataframe thead th {\n",
       "        text-align: right;\n",
       "    }\n",
       "</style>\n",
       "<table border=\"1\" class=\"dataframe\">\n",
       "  <thead>\n",
       "    <tr style=\"text-align: right;\">\n",
       "      <th></th>\n",
       "      <th>content</th>\n",
       "      <th>date</th>\n",
       "      <th>like</th>\n",
       "      <th>place</th>\n",
       "      <th>tag</th>\n",
       "    </tr>\n",
       "  </thead>\n",
       "  <tbody>\n",
       "    <tr>\n",
       "      <th>0</th>\n",
       "      <td>광고제주도에서 즐기는 랍스터만찬 랍스터빈 !!🔸주소 : 제주시 애월읍 애월해안로 7...</td>\n",
       "      <td>2021-12-06</td>\n",
       "      <td>0</td>\n",
       "      <td></td>\n",
       "      <td>[#애월맛집, #애월카페, #애월읍맛집, #제주애월맛집, #제주도맛집, #제주맛집,...</td>\n",
       "    </tr>\n",
       "    <tr>\n",
       "      <th>1</th>\n",
       "      <td>영업시간 네이버 참고      #제주맛집 #제주도맛집#에코랜드 #사려니숲길 #코코몽...</td>\n",
       "      <td>2021-12-07</td>\n",
       "      <td>140</td>\n",
       "      <td></td>\n",
       "      <td>[#제주맛집, #제주도맛집, #에코랜드, #사려니숲길, #코코몽에코파크제주, #스누...</td>\n",
       "    </tr>\n",
       "    <tr>\n",
       "      <th>2</th>\n",
       "      <td>비주얼과 맛 둘 다 잡은 한라봉스시 천국의 계단💛웨이팅이 너무 길어 예약도 하기 힘...</td>\n",
       "      <td>2021-12-08</td>\n",
       "      <td>109</td>\n",
       "      <td></td>\n",
       "      <td>[#한라봉스시, #제주공항근처맛집, #제주공항맛집, #제주공항근처카페, #제주도초밥...</td>\n",
       "    </tr>\n",
       "    <tr>\n",
       "      <th>3</th>\n",
       "      <td>제주 갈치요리하면 요기 !!!비주얼 최고맛집이라불리는 갈치요리맛집\"성산을본갈치\"성산...</td>\n",
       "      <td>2021-12-07</td>\n",
       "      <td>0</td>\n",
       "      <td></td>\n",
       "      <td>[#성산을본갈치주소]</td>\n",
       "    </tr>\n",
       "    <tr>\n",
       "      <th>4</th>\n",
       "      <td>리그램 @lim._.d 한번 맛보면 잊지 못하는 제주공항근처 맛집❤📍회심제주바다의 ...</td>\n",
       "      <td>2021-12-08</td>\n",
       "      <td>156</td>\n",
       "      <td></td>\n",
       "      <td>[#제주도소바맛집, #제주도초밥맛집, #제주도텐동맛집취향저격, #제주도소갈비맛집, ...</td>\n",
       "    </tr>\n",
       "  </tbody>\n",
       "</table>\n",
       "</div>"
      ],
      "text/plain": [
       "                                             content        date like place  \\\n",
       "0  광고제주도에서 즐기는 랍스터만찬 랍스터빈 !!🔸주소 : 제주시 애월읍 애월해안로 7...  2021-12-06    0         \n",
       "1  영업시간 네이버 참고      #제주맛집 #제주도맛집#에코랜드 #사려니숲길 #코코몽...  2021-12-07  140         \n",
       "2  비주얼과 맛 둘 다 잡은 한라봉스시 천국의 계단💛웨이팅이 너무 길어 예약도 하기 힘...  2021-12-08  109         \n",
       "3  제주 갈치요리하면 요기 !!!비주얼 최고맛집이라불리는 갈치요리맛집\"성산을본갈치\"성산...  2021-12-07    0         \n",
       "4  리그램 @lim._.d 한번 맛보면 잊지 못하는 제주공항근처 맛집❤📍회심제주바다의 ...  2021-12-08  156         \n",
       "\n",
       "                                                 tag  \n",
       "0  [#애월맛집, #애월카페, #애월읍맛집, #제주애월맛집, #제주도맛집, #제주맛집,...  \n",
       "1  [#제주맛집, #제주도맛집, #에코랜드, #사려니숲길, #코코몽에코파크제주, #스누...  \n",
       "2  [#한라봉스시, #제주공항근처맛집, #제주공항맛집, #제주공항근처카페, #제주도초밥...  \n",
       "3                                        [#성산을본갈치주소]  \n",
       "4  [#제주도소바맛집, #제주도초밥맛집, #제주도텐동맛집취향저격, #제주도소갈비맛집, ...  "
      ]
     },
     "execution_count": 105,
     "metadata": {},
     "output_type": "execute_result"
    }
   ],
   "source": [
    "df = pd.DataFrame(results, columns=['content','date','like','place','tag'])\n",
    "df.head()"
   ]
  },
  {
   "cell_type": "code",
   "execution_count": 107,
   "metadata": {},
   "outputs": [
    {
     "data": {
      "text/plain": [
       "(210, 5)"
      ]
     },
     "execution_count": 107,
     "metadata": {},
     "output_type": "execute_result"
    }
   ],
   "source": [
    "df.drop_duplicates(subset='content',keep='first',inplace=True)\n",
    "df.shape"
   ]
  },
  {
   "cell_type": "code",
   "execution_count": 108,
   "metadata": {},
   "outputs": [],
   "source": [
    "df.to_csv('인스타-제주맛집.csv', index=False)"
   ]
  },
  {
   "cell_type": "code",
   "execution_count": 110,
   "metadata": {},
   "outputs": [
    {
     "data": {
      "text/html": [
       "<div>\n",
       "<style scoped>\n",
       "    .dataframe tbody tr th:only-of-type {\n",
       "        vertical-align: middle;\n",
       "    }\n",
       "\n",
       "    .dataframe tbody tr th {\n",
       "        vertical-align: top;\n",
       "    }\n",
       "\n",
       "    .dataframe thead th {\n",
       "        text-align: right;\n",
       "    }\n",
       "</style>\n",
       "<table border=\"1\" class=\"dataframe\">\n",
       "  <thead>\n",
       "    <tr style=\"text-align: right;\">\n",
       "      <th></th>\n",
       "      <th>place</th>\n",
       "    </tr>\n",
       "  </thead>\n",
       "  <tbody>\n",
       "    <tr>\n",
       "      <th></th>\n",
       "      <td>104</td>\n",
       "    </tr>\n",
       "    <tr>\n",
       "      <th>환상의 섬 Jeju Island</th>\n",
       "      <td>7</td>\n",
       "    </tr>\n",
       "    <tr>\n",
       "      <th>Jeju</th>\n",
       "      <td>4</td>\n",
       "    </tr>\n",
       "    <tr>\n",
       "      <th>Jeju-do</th>\n",
       "      <td>4</td>\n",
       "    </tr>\n",
       "    <tr>\n",
       "      <th>제주도 애월읍</th>\n",
       "      <td>3</td>\n",
       "    </tr>\n",
       "    <tr>\n",
       "      <th>문쏘</th>\n",
       "      <td>3</td>\n",
       "    </tr>\n",
       "    <tr>\n",
       "      <th>브라보비치-제주</th>\n",
       "      <td>2</td>\n",
       "    </tr>\n",
       "    <tr>\n",
       "      <th>성산일출봉 Seongsan Sunrise Peak</th>\n",
       "      <td>2</td>\n",
       "    </tr>\n",
       "    <tr>\n",
       "      <th>썬라이즈135</th>\n",
       "      <td>2</td>\n",
       "    </tr>\n",
       "    <tr>\n",
       "      <th>제주도 Jeju Island</th>\n",
       "      <td>2</td>\n",
       "    </tr>\n",
       "    <tr>\n",
       "      <th>랍스터빈_jeju</th>\n",
       "      <td>2</td>\n",
       "    </tr>\n",
       "    <tr>\n",
       "      <th>그리트</th>\n",
       "      <td>2</td>\n",
       "    </tr>\n",
       "    <tr>\n",
       "      <th>소모소</th>\n",
       "      <td>2</td>\n",
       "    </tr>\n",
       "    <tr>\n",
       "      <th>이어도전복해물전문점</th>\n",
       "      <td>2</td>\n",
       "    </tr>\n",
       "    <tr>\n",
       "      <th>제주 협재 해수욕장</th>\n",
       "      <td>2</td>\n",
       "    </tr>\n",
       "    <tr>\n",
       "      <th>돌담밥상</th>\n",
       "      <td>1</td>\n",
       "    </tr>\n",
       "    <tr>\n",
       "      <th>고쿠텐서귀포점</th>\n",
       "      <td>1</td>\n",
       "    </tr>\n",
       "    <tr>\n",
       "      <th>앤트러사이트 제주 한림점</th>\n",
       "      <td>1</td>\n",
       "    </tr>\n",
       "    <tr>\n",
       "      <th>도두봉 Dodu-Dong Rainbow Coastal Road</th>\n",
       "      <td>1</td>\n",
       "    </tr>\n",
       "    <tr>\n",
       "      <th>깡촌흑돼지</th>\n",
       "      <td>1</td>\n",
       "    </tr>\n",
       "  </tbody>\n",
       "</table>\n",
       "</div>"
      ],
      "text/plain": [
       "                                    place\n",
       "                                      104\n",
       "환상의 섬 Jeju Island                       7\n",
       "Jeju                                    4\n",
       "Jeju-do                                 4\n",
       "제주도 애월읍                                 3\n",
       "문쏘                                      3\n",
       "브라보비치-제주                                2\n",
       "성산일출봉 Seongsan Sunrise Peak             2\n",
       "썬라이즈135                                 2\n",
       "제주도 Jeju Island                         2\n",
       "랍스터빈_jeju                               2\n",
       "그리트                                     2\n",
       "소모소                                     2\n",
       "이어도전복해물전문점                              2\n",
       "제주 협재 해수욕장                              2\n",
       "돌담밥상                                    1\n",
       "고쿠텐서귀포점                                 1\n",
       "앤트러사이트 제주 한림점                           1\n",
       "도두봉 Dodu-Dong Rainbow Coastal Road      1\n",
       "깡촌흑돼지                                   1"
      ]
     },
     "execution_count": 110,
     "metadata": {},
     "output_type": "execute_result"
    }
   ],
   "source": [
    "cf = df.place.value_counts().to_frame()\n",
    "cf.head(20)"
   ]
  },
  {
   "cell_type": "code",
   "execution_count": null,
   "metadata": {},
   "outputs": [],
   "source": []
  }
 ],
 "metadata": {
  "interpreter": {
   "hash": "9459de32d5ca2a57cd93a1169c99c6090e3e7c98f7fac5dc8fa5b4017ec3f43e"
  },
  "kernelspec": {
   "display_name": "Python 3.8.8 64-bit ('base': conda)",
   "language": "python",
   "name": "python3"
  },
  "language_info": {
   "codemirror_mode": {
    "name": "ipython",
    "version": 3
   },
   "file_extension": ".py",
   "mimetype": "text/x-python",
   "name": "python",
   "nbconvert_exporter": "python",
   "pygments_lexer": "ipython3",
   "version": "3.8.8"
  },
  "orig_nbformat": 4
 },
 "nbformat": 4,
 "nbformat_minor": 2
}
