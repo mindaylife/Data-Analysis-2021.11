{
 "cells": [
  {
   "cell_type": "markdown",
   "metadata": {},
   "source": [
    "# 과제"
   ]
  },
  {
   "cell_type": "code",
   "execution_count": 1,
   "metadata": {},
   "outputs": [],
   "source": [
    "import requests\n",
    "from urllib.parse import quote\n",
    "import pandas as pd\n",
    "from bs4 import BeautifulSoup"
   ]
  },
  {
   "cell_type": "code",
   "execution_count": 442,
   "metadata": {},
   "outputs": [],
   "source": [
    "site ='http://book.interpark.com'\n",
    "url = 'https://book.interpark.com/display/collectlist.do?_method=BestsellerHourNew'\n",
    "req = requests.get(url)\n",
    "html = req.text\n",
    "soup = BeautifulSoup(html, 'html.parser')"
   ]
  },
  {
   "cell_type": "code",
   "execution_count": 443,
   "metadata": {},
   "outputs": [
    {
     "data": {
      "text/plain": [
       "15"
      ]
     },
     "execution_count": 443,
     "metadata": {},
     "output_type": "execute_result"
    }
   ],
   "source": [
    "lis =soup.select(\"div.rankBestContentList > ol > li\")  \n",
    "len(lis)"
   ]
  },
  {
   "cell_type": "code",
   "execution_count": 444,
   "metadata": {},
   "outputs": [],
   "source": [
    "li = lis[4]\n",
    "href = li.find('a')['href']"
   ]
  },
  {
   "cell_type": "code",
   "execution_count": 445,
   "metadata": {},
   "outputs": [],
   "source": [
    "sub_url = site + href\n",
    "sub_req = requests.get(sub_url)\n",
    "sub_html = sub_req.text\n",
    "sub_soup = BeautifulSoup(sub_html, 'html.parser')"
   ]
  },
  {
   "cell_type": "code",
   "execution_count": 30,
   "metadata": {},
   "outputs": [],
   "source": [
    "### 순위, 책제목, 저자, 출판사, 가격(정수로 바꾸기), 발생일, 쪽수(정수로 바꾸기)"
   ]
  },
  {
   "cell_type": "code",
   "execution_count": 468,
   "metadata": {},
   "outputs": [],
   "source": [
    "# 순위 pass ()"
   ]
  },
  {
   "cell_type": "code",
   "execution_count": 447,
   "metadata": {},
   "outputs": [
    {
     "data": {
      "text/plain": [
       "'아직 오지 않은 날들을 위하여 '"
      ]
     },
     "execution_count": 447,
     "metadata": {},
     "output_type": "execute_result"
    }
   ],
   "source": [
    "# 책제목\n",
    "book_name = li.select_one('.itemName').string       \n",
    "book_name"
   ]
  },
  {
   "cell_type": "code",
   "execution_count": 381,
   "metadata": {},
   "outputs": [
    {
     "data": {
      "text/plain": [
       "'에릭 와이너/김하현 역'"
      ]
     },
     "execution_count": 381,
     "metadata": {},
     "output_type": "execute_result"
    }
   ],
   "source": [
    "# 저자\n",
    "artist_name = li.select_one('.author').string\n",
    "artist_name"
   ]
  },
  {
   "cell_type": "code",
   "execution_count": 382,
   "metadata": {},
   "outputs": [
    {
     "data": {
      "text/plain": [
       "'어크로스'"
      ]
     },
     "execution_count": 382,
     "metadata": {},
     "output_type": "execute_result"
    }
   ],
   "source": [
    "# 출판사\n",
    "company_name = li.select_one('.company').string\n",
    "company_name"
   ]
  },
  {
   "cell_type": "code",
   "execution_count": 383,
   "metadata": {},
   "outputs": [
    {
     "data": {
      "text/plain": [
       "16200"
      ]
     },
     "execution_count": 383,
     "metadata": {},
     "output_type": "execute_result"
    }
   ],
   "source": [
    "# 가격\n",
    "price0 = li.select_one('.price').get_text()\n",
    "price = int(price0.replace('\\n','').replace(',','').replace('원',''))\n",
    "price"
   ]
  },
  {
   "cell_type": "code",
   "execution_count": 424,
   "metadata": {},
   "outputs": [
    {
     "data": {
      "text/plain": [
       "192"
      ]
     },
     "execution_count": 424,
     "metadata": {},
     "output_type": "execute_result"
    }
   ],
   "source": [
    "# 쪽수\n",
    "page_number0 =sub_soup.select_one(\".bInfo_txt\").find_all('li')[-2].string\n",
    "page_number = int(page_number0.replace('쪽수','').replace(':',''))\n",
    "page_number"
   ]
  },
  {
   "cell_type": "code",
   "execution_count": 437,
   "metadata": {},
   "outputs": [
    {
     "data": {
      "text/plain": [
       "'2021년 12월 09일'"
      ]
     },
     "execution_count": 437,
     "metadata": {},
     "output_type": "execute_result"
    }
   ],
   "source": [
    "# 발생일\n",
    "issue_day0 = sub_soup.select_one(\".bInfo_txt\").find_all('li')[-3].string\n",
    "issue_day =  issue_day0.replace('발행 : ','')\n",
    "issue_day"
   ]
  },
  {
   "cell_type": "code",
   "execution_count": 463,
   "metadata": {},
   "outputs": [
    {
     "data": {
      "text/html": [
       "<div>\n",
       "<style scoped>\n",
       "    .dataframe tbody tr th:only-of-type {\n",
       "        vertical-align: middle;\n",
       "    }\n",
       "\n",
       "    .dataframe tbody tr th {\n",
       "        vertical-align: top;\n",
       "    }\n",
       "\n",
       "    .dataframe thead th {\n",
       "        text-align: right;\n",
       "    }\n",
       "</style>\n",
       "<table border=\"1\" class=\"dataframe\">\n",
       "  <thead>\n",
       "    <tr style=\"text-align: right;\">\n",
       "      <th></th>\n",
       "      <th>책제목</th>\n",
       "      <th>저자</th>\n",
       "      <th>출판사</th>\n",
       "      <th>가격</th>\n",
       "      <th>쪽수</th>\n",
       "      <th>발행일</th>\n",
       "    </tr>\n",
       "  </thead>\n",
       "  <tbody>\n",
       "    <tr>\n",
       "      <th>0</th>\n",
       "      <td>트렌드 코리아 2022</td>\n",
       "      <td>김난도(金蘭都), 전미영, 최지혜, 이향은, 이준영</td>\n",
       "      <td>미래의창</td>\n",
       "      <td>16200</td>\n",
       "      <td>452</td>\n",
       "      <td>2021년 10월 06일</td>\n",
       "    </tr>\n",
       "    <tr>\n",
       "      <th>1</th>\n",
       "      <td>2022 현직교사들이 들려주는 면접레시피</td>\n",
       "      <td>류은진, 양왕경, 이광한, 이지혜, 양왕경, 이광한, 이지혜</td>\n",
       "      <td>미래가치</td>\n",
       "      <td>42300</td>\n",
       "      <td>1104</td>\n",
       "      <td>2021년 11월 12일</td>\n",
       "    </tr>\n",
       "    <tr>\n",
       "      <th>2</th>\n",
       "      <td>거인의 포트폴리오</td>\n",
       "      <td>강환국</td>\n",
       "      <td>페이지2북스</td>\n",
       "      <td>16200</td>\n",
       "      <td>404</td>\n",
       "      <td>2021년 11월 08일</td>\n",
       "    </tr>\n",
       "    <tr>\n",
       "      <th>3</th>\n",
       "      <td>거꾸로 읽는 세계사</td>\n",
       "      <td>유시민(柳時敏)</td>\n",
       "      <td>돌베개</td>\n",
       "      <td>15750</td>\n",
       "      <td>404</td>\n",
       "      <td>2021년 10월 29일</td>\n",
       "    </tr>\n",
       "    <tr>\n",
       "      <th>4</th>\n",
       "      <td>아직 오지 않은 날들을 위하여</td>\n",
       "      <td>파스칼 브뤼크네르/이세진 역</td>\n",
       "      <td>인플루엔셜</td>\n",
       "      <td>14400</td>\n",
       "      <td>320</td>\n",
       "      <td>2021년 11월 12일</td>\n",
       "    </tr>\n",
       "    <tr>\n",
       "      <th>5</th>\n",
       "      <td>작은 별이지만 빛나고 있어(10만 부 기념 한정판 에디션)</td>\n",
       "      <td>소윤</td>\n",
       "      <td>북로망스</td>\n",
       "      <td>13500</td>\n",
       "      <td>274</td>\n",
       "      <td>2021년 09월 29일</td>\n",
       "    </tr>\n",
       "    <tr>\n",
       "      <th>6</th>\n",
       "      <td>투자는 디테일에 있다</td>\n",
       "      <td>김정환</td>\n",
       "      <td>부케이</td>\n",
       "      <td>16200</td>\n",
       "      <td>424</td>\n",
       "      <td>2021년 12월 10일</td>\n",
       "    </tr>\n",
       "    <tr>\n",
       "      <th>7</th>\n",
       "      <td>웰씽킹(Wealthinking)</td>\n",
       "      <td>켈리 최</td>\n",
       "      <td>다산북스</td>\n",
       "      <td>14400</td>\n",
       "      <td>316</td>\n",
       "      <td>2021년 11월 10일</td>\n",
       "    </tr>\n",
       "    <tr>\n",
       "      <th>8</th>\n",
       "      <td>오십에 읽는 논어</td>\n",
       "      <td>최종엽</td>\n",
       "      <td>유노북스</td>\n",
       "      <td>14400</td>\n",
       "      <td>300</td>\n",
       "      <td>2021년 11월 03일</td>\n",
       "    </tr>\n",
       "    <tr>\n",
       "      <th>9</th>\n",
       "      <td>소크라테스 익스프레스(20만 부 기념 윈터 에디션)</td>\n",
       "      <td>에릭 와이너/김하현 역</td>\n",
       "      <td>어크로스</td>\n",
       "      <td>16200</td>\n",
       "      <td>524</td>\n",
       "      <td>2021년 11월 26일</td>\n",
       "    </tr>\n",
       "    <tr>\n",
       "      <th>10</th>\n",
       "      <td>달러구트 꿈 백화점. 2</td>\n",
       "      <td>이미예</td>\n",
       "      <td>팩토리나인</td>\n",
       "      <td>12420</td>\n",
       "      <td>308</td>\n",
       "      <td>2021년 07월 27일</td>\n",
       "    </tr>\n",
       "    <tr>\n",
       "      <th>11</th>\n",
       "      <td>불편한 편의점(15만부 기념 윈터 에디션)</td>\n",
       "      <td>김호연</td>\n",
       "      <td>나무옆의자</td>\n",
       "      <td>12600</td>\n",
       "      <td>268</td>\n",
       "      <td>2021년 04월 20일</td>\n",
       "    </tr>\n",
       "    <tr>\n",
       "      <th>12</th>\n",
       "      <td>달러구트 꿈 백화점</td>\n",
       "      <td>이미예</td>\n",
       "      <td>팩토리나인</td>\n",
       "      <td>12420</td>\n",
       "      <td>300</td>\n",
       "      <td>2020년 07월 08일</td>\n",
       "    </tr>\n",
       "    <tr>\n",
       "      <th>13</th>\n",
       "      <td>흔한남매. 9</td>\n",
       "      <td>흔한남매, 백난도/유난희 그림</td>\n",
       "      <td>미래엔아이세움</td>\n",
       "      <td>12150</td>\n",
       "      <td>192</td>\n",
       "      <td>2021년 12월 09일</td>\n",
       "    </tr>\n",
       "    <tr>\n",
       "      <th>14</th>\n",
       "      <td>NFT 레볼루션</td>\n",
       "      <td>성소라, 롤프 회퍼, 스콧 맥러플린</td>\n",
       "      <td>더퀘스트</td>\n",
       "      <td>16200</td>\n",
       "      <td>324</td>\n",
       "      <td>2021년 09월 01일</td>\n",
       "    </tr>\n",
       "  </tbody>\n",
       "</table>\n",
       "</div>"
      ],
      "text/plain": [
       "                                  책제목                                 저자  \\\n",
       "0                       트렌드 코리아 2022        김난도(金蘭都), 전미영, 최지혜, 이향은, 이준영   \n",
       "1             2022 현직교사들이 들려주는 면접레시피   류은진, 양왕경, 이광한, 이지혜, 양왕경, 이광한, 이지혜   \n",
       "2                          거인의 포트폴리오                                 강환국   \n",
       "3                         거꾸로 읽는 세계사                            유시민(柳時敏)   \n",
       "4                   아직 오지 않은 날들을 위하여                     파스칼 브뤼크네르/이세진 역   \n",
       "5   작은 별이지만 빛나고 있어(10만 부 기념 한정판 에디션)                                  소윤   \n",
       "6                        투자는 디테일에 있다                                 김정환   \n",
       "7                  웰씽킹(Wealthinking)                                켈리 최   \n",
       "8                          오십에 읽는 논어                                 최종엽   \n",
       "9       소크라테스 익스프레스(20만 부 기념 윈터 에디션)                        에릭 와이너/김하현 역   \n",
       "10                     달러구트 꿈 백화점. 2                                 이미예   \n",
       "11           불편한 편의점(15만부 기념 윈터 에디션)                                 김호연   \n",
       "12                        달러구트 꿈 백화점                                 이미예   \n",
       "13                           흔한남매. 9                    흔한남매, 백난도/유난희 그림   \n",
       "14                          NFT 레볼루션                 성소라, 롤프 회퍼, 스콧 맥러플린   \n",
       "\n",
       "        출판사     가격    쪽수            발행일  \n",
       "0      미래의창  16200   452  2021년 10월 06일  \n",
       "1      미래가치  42300  1104  2021년 11월 12일  \n",
       "2    페이지2북스  16200   404  2021년 11월 08일  \n",
       "3       돌베개  15750   404  2021년 10월 29일  \n",
       "4     인플루엔셜  14400   320  2021년 11월 12일  \n",
       "5      북로망스  13500   274  2021년 09월 29일  \n",
       "6       부케이  16200   424  2021년 12월 10일  \n",
       "7      다산북스  14400   316  2021년 11월 10일  \n",
       "8      유노북스  14400   300  2021년 11월 03일  \n",
       "9      어크로스  16200   524  2021년 11월 26일  \n",
       "10    팩토리나인  12420   308  2021년 07월 27일  \n",
       "11    나무옆의자  12600   268  2021년 04월 20일  \n",
       "12    팩토리나인  12420   300  2020년 07월 08일  \n",
       "13  미래엔아이세움  12150   192  2021년 12월 09일  \n",
       "14     더퀘스트  16200   324  2021년 09월 01일  "
      ]
     },
     "execution_count": 463,
     "metadata": {},
     "output_type": "execute_result"
    }
   ],
   "source": [
    "lines = []\n",
    "for li in lis:\n",
    "    href = li.find('a')['href']\n",
    "    book_name = li.select_one('.itemName').string  \n",
    "    artist_name = li.select_one('.author').string\n",
    "    company_name = li.select_one('.company').string\n",
    "    price0 = li.select_one('.price').get_text()\n",
    "    price = int(price0.replace('\\n','').replace(',','').replace('원',''))\n",
    "    \n",
    "    sub_url = site + href\n",
    "    sub_req = requests.get(sub_url)\n",
    "    sub_html = sub_req.text\n",
    "    sub_soup = BeautifulSoup(sub_html, 'html.parser')\n",
    "    page_number0 = sub_soup.select_one(\".bInfo_txt\").find_all('li')[-2].string\n",
    "    page_number = int(page_number0.replace('쪽수','').replace(':',''))\n",
    "    issue_day0 = sub_soup.select_one(\".bInfo_txt\").find_all('li')[-3].string\n",
    "    issue_day = issue_day0.replace('발행 : ','')\n",
    "\n",
    "    lines.append([book_name, artist_name, company_name, price, page_number, issue_day])\n",
    "\n",
    "df = pd.DataFrame(lines, columns =['책제목', '저자', '출판사', '가격','쪽수','발행일'])\n",
    "df"
   ]
  },
  {
   "cell_type": "code",
   "execution_count": null,
   "metadata": {},
   "outputs": [],
   "source": []
  }
 ],
 "metadata": {
  "interpreter": {
   "hash": "9459de32d5ca2a57cd93a1169c99c6090e3e7c98f7fac5dc8fa5b4017ec3f43e"
  },
  "kernelspec": {
   "display_name": "Python 3.8.8 64-bit ('base': conda)",
   "language": "python",
   "name": "python3"
  },
  "language_info": {
   "codemirror_mode": {
    "name": "ipython",
    "version": 3
   },
   "file_extension": ".py",
   "mimetype": "text/x-python",
   "name": "python",
   "nbconvert_exporter": "python",
   "pygments_lexer": "ipython3",
   "version": "3.8.8"
  },
  "orig_nbformat": 4
 },
 "nbformat": 4,
 "nbformat_minor": 2
}
